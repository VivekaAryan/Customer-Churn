{
  "nbformat": 4,
  "nbformat_minor": 0,
  "metadata": {
    "colab": {
      "name": "Customer Churn.ipynb",
      "provenance": [],
      "collapsed_sections": []
    },
    "kernelspec": {
      "name": "python3",
      "display_name": "Python 3"
    }
  },
  "cells": [
    {
      "cell_type": "code",
      "metadata": {
        "id": "fFSjecKhZUcL",
        "colab_type": "code",
        "colab": {
          "base_uri": "https://localhost:8080/",
          "height": 71
        },
        "outputId": "4762d8d9-fa8d-4d27-b170-f392e1584c6f"
      },
      "source": [
        "import pandas as pd\n",
        "import numpy as np\n",
        "import matplotlib.pyplot as plt\n",
        "import seaborn as sns"
      ],
      "execution_count": 1,
      "outputs": [
        {
          "output_type": "stream",
          "text": [
            "/usr/local/lib/python3.6/dist-packages/statsmodels/tools/_testing.py:19: FutureWarning: pandas.util.testing is deprecated. Use the functions in the public API at pandas.testing instead.\n",
            "  import pandas.util.testing as tm\n"
          ],
          "name": "stderr"
        }
      ]
    },
    {
      "cell_type": "code",
      "metadata": {
        "id": "QgYA2CGrYiC6",
        "colab_type": "code",
        "colab": {}
      },
      "source": [
        "dataset = pd.read_csv('churn_data.csv')"
      ],
      "execution_count": 0,
      "outputs": []
    },
    {
      "cell_type": "code",
      "metadata": {
        "id": "6sHXHyMrYpvu",
        "colab_type": "code",
        "outputId": "5b00a878-c3f5-49b7-9146-35e7d1a12db0",
        "colab": {
          "base_uri": "https://localhost:8080/",
          "height": 224
        }
      },
      "source": [
        "dataset.head()"
      ],
      "execution_count": 3,
      "outputs": [
        {
          "output_type": "execute_result",
          "data": {
            "text/html": [
              "<div>\n",
              "<style scoped>\n",
              "    .dataframe tbody tr th:only-of-type {\n",
              "        vertical-align: middle;\n",
              "    }\n",
              "\n",
              "    .dataframe tbody tr th {\n",
              "        vertical-align: top;\n",
              "    }\n",
              "\n",
              "    .dataframe thead th {\n",
              "        text-align: right;\n",
              "    }\n",
              "</style>\n",
              "<table border=\"1\" class=\"dataframe\">\n",
              "  <thead>\n",
              "    <tr style=\"text-align: right;\">\n",
              "      <th></th>\n",
              "      <th>user</th>\n",
              "      <th>churn</th>\n",
              "      <th>age</th>\n",
              "      <th>housing</th>\n",
              "      <th>credit_score</th>\n",
              "      <th>deposits</th>\n",
              "      <th>withdrawal</th>\n",
              "      <th>purchases_partners</th>\n",
              "      <th>purchases</th>\n",
              "      <th>cc_taken</th>\n",
              "      <th>cc_recommended</th>\n",
              "      <th>cc_disliked</th>\n",
              "      <th>cc_liked</th>\n",
              "      <th>cc_application_begin</th>\n",
              "      <th>app_downloaded</th>\n",
              "      <th>web_user</th>\n",
              "      <th>app_web_user</th>\n",
              "      <th>ios_user</th>\n",
              "      <th>android_user</th>\n",
              "      <th>registered_phones</th>\n",
              "      <th>payment_type</th>\n",
              "      <th>waiting_4_loan</th>\n",
              "      <th>cancelled_loan</th>\n",
              "      <th>received_loan</th>\n",
              "      <th>rejected_loan</th>\n",
              "      <th>zodiac_sign</th>\n",
              "      <th>left_for_two_month_plus</th>\n",
              "      <th>left_for_one_month</th>\n",
              "      <th>rewards_earned</th>\n",
              "      <th>reward_rate</th>\n",
              "      <th>is_referred</th>\n",
              "    </tr>\n",
              "  </thead>\n",
              "  <tbody>\n",
              "    <tr>\n",
              "      <th>0</th>\n",
              "      <td>55409</td>\n",
              "      <td>0</td>\n",
              "      <td>37.0</td>\n",
              "      <td>na</td>\n",
              "      <td>NaN</td>\n",
              "      <td>0</td>\n",
              "      <td>0</td>\n",
              "      <td>0</td>\n",
              "      <td>0</td>\n",
              "      <td>0</td>\n",
              "      <td>0</td>\n",
              "      <td>0</td>\n",
              "      <td>0</td>\n",
              "      <td>0</td>\n",
              "      <td>1</td>\n",
              "      <td>1</td>\n",
              "      <td>1</td>\n",
              "      <td>1</td>\n",
              "      <td>0</td>\n",
              "      <td>0</td>\n",
              "      <td>Bi-Weekly</td>\n",
              "      <td>0</td>\n",
              "      <td>0</td>\n",
              "      <td>0</td>\n",
              "      <td>0</td>\n",
              "      <td>Leo</td>\n",
              "      <td>1</td>\n",
              "      <td>0</td>\n",
              "      <td>NaN</td>\n",
              "      <td>0.00</td>\n",
              "      <td>0</td>\n",
              "    </tr>\n",
              "    <tr>\n",
              "      <th>1</th>\n",
              "      <td>23547</td>\n",
              "      <td>0</td>\n",
              "      <td>28.0</td>\n",
              "      <td>R</td>\n",
              "      <td>486.0</td>\n",
              "      <td>0</td>\n",
              "      <td>0</td>\n",
              "      <td>1</td>\n",
              "      <td>0</td>\n",
              "      <td>0</td>\n",
              "      <td>96</td>\n",
              "      <td>0</td>\n",
              "      <td>0</td>\n",
              "      <td>5</td>\n",
              "      <td>1</td>\n",
              "      <td>1</td>\n",
              "      <td>1</td>\n",
              "      <td>1</td>\n",
              "      <td>0</td>\n",
              "      <td>0</td>\n",
              "      <td>Weekly</td>\n",
              "      <td>0</td>\n",
              "      <td>0</td>\n",
              "      <td>0</td>\n",
              "      <td>0</td>\n",
              "      <td>Leo</td>\n",
              "      <td>0</td>\n",
              "      <td>0</td>\n",
              "      <td>44.0</td>\n",
              "      <td>1.47</td>\n",
              "      <td>1</td>\n",
              "    </tr>\n",
              "    <tr>\n",
              "      <th>2</th>\n",
              "      <td>58313</td>\n",
              "      <td>0</td>\n",
              "      <td>35.0</td>\n",
              "      <td>R</td>\n",
              "      <td>561.0</td>\n",
              "      <td>47</td>\n",
              "      <td>2</td>\n",
              "      <td>86</td>\n",
              "      <td>47</td>\n",
              "      <td>0</td>\n",
              "      <td>285</td>\n",
              "      <td>0</td>\n",
              "      <td>0</td>\n",
              "      <td>9</td>\n",
              "      <td>1</td>\n",
              "      <td>0</td>\n",
              "      <td>0</td>\n",
              "      <td>0</td>\n",
              "      <td>1</td>\n",
              "      <td>2</td>\n",
              "      <td>Semi-Monthly</td>\n",
              "      <td>0</td>\n",
              "      <td>0</td>\n",
              "      <td>0</td>\n",
              "      <td>0</td>\n",
              "      <td>Capricorn</td>\n",
              "      <td>1</td>\n",
              "      <td>0</td>\n",
              "      <td>65.0</td>\n",
              "      <td>2.17</td>\n",
              "      <td>0</td>\n",
              "    </tr>\n",
              "    <tr>\n",
              "      <th>3</th>\n",
              "      <td>8095</td>\n",
              "      <td>0</td>\n",
              "      <td>26.0</td>\n",
              "      <td>R</td>\n",
              "      <td>567.0</td>\n",
              "      <td>26</td>\n",
              "      <td>3</td>\n",
              "      <td>38</td>\n",
              "      <td>25</td>\n",
              "      <td>0</td>\n",
              "      <td>74</td>\n",
              "      <td>0</td>\n",
              "      <td>0</td>\n",
              "      <td>26</td>\n",
              "      <td>1</td>\n",
              "      <td>0</td>\n",
              "      <td>0</td>\n",
              "      <td>0</td>\n",
              "      <td>1</td>\n",
              "      <td>0</td>\n",
              "      <td>Bi-Weekly</td>\n",
              "      <td>0</td>\n",
              "      <td>0</td>\n",
              "      <td>0</td>\n",
              "      <td>0</td>\n",
              "      <td>Capricorn</td>\n",
              "      <td>0</td>\n",
              "      <td>0</td>\n",
              "      <td>33.0</td>\n",
              "      <td>1.10</td>\n",
              "      <td>1</td>\n",
              "    </tr>\n",
              "    <tr>\n",
              "      <th>4</th>\n",
              "      <td>61353</td>\n",
              "      <td>1</td>\n",
              "      <td>27.0</td>\n",
              "      <td>na</td>\n",
              "      <td>NaN</td>\n",
              "      <td>0</td>\n",
              "      <td>0</td>\n",
              "      <td>2</td>\n",
              "      <td>0</td>\n",
              "      <td>0</td>\n",
              "      <td>0</td>\n",
              "      <td>0</td>\n",
              "      <td>0</td>\n",
              "      <td>0</td>\n",
              "      <td>1</td>\n",
              "      <td>1</td>\n",
              "      <td>1</td>\n",
              "      <td>0</td>\n",
              "      <td>1</td>\n",
              "      <td>0</td>\n",
              "      <td>Bi-Weekly</td>\n",
              "      <td>0</td>\n",
              "      <td>0</td>\n",
              "      <td>0</td>\n",
              "      <td>0</td>\n",
              "      <td>Aries</td>\n",
              "      <td>1</td>\n",
              "      <td>0</td>\n",
              "      <td>1.0</td>\n",
              "      <td>0.03</td>\n",
              "      <td>0</td>\n",
              "    </tr>\n",
              "  </tbody>\n",
              "</table>\n",
              "</div>"
            ],
            "text/plain": [
              "    user  churn   age  ... rewards_earned  reward_rate  is_referred\n",
              "0  55409      0  37.0  ...            NaN         0.00            0\n",
              "1  23547      0  28.0  ...           44.0         1.47            1\n",
              "2  58313      0  35.0  ...           65.0         2.17            0\n",
              "3   8095      0  26.0  ...           33.0         1.10            1\n",
              "4  61353      1  27.0  ...            1.0         0.03            0\n",
              "\n",
              "[5 rows x 31 columns]"
            ]
          },
          "metadata": {
            "tags": []
          },
          "execution_count": 3
        }
      ]
    },
    {
      "cell_type": "code",
      "metadata": {
        "id": "bw8IjXAYYs8l",
        "colab_type": "code",
        "outputId": "52137ded-02fa-42ce-b694-7833663e5e80",
        "colab": {
          "base_uri": "https://localhost:8080/",
          "height": 170
        }
      },
      "source": [
        "dataset.columns"
      ],
      "execution_count": 4,
      "outputs": [
        {
          "output_type": "execute_result",
          "data": {
            "text/plain": [
              "Index(['user', 'churn', 'age', 'housing', 'credit_score', 'deposits',\n",
              "       'withdrawal', 'purchases_partners', 'purchases', 'cc_taken',\n",
              "       'cc_recommended', 'cc_disliked', 'cc_liked', 'cc_application_begin',\n",
              "       'app_downloaded', 'web_user', 'app_web_user', 'ios_user',\n",
              "       'android_user', 'registered_phones', 'payment_type', 'waiting_4_loan',\n",
              "       'cancelled_loan', 'received_loan', 'rejected_loan', 'zodiac_sign',\n",
              "       'left_for_two_month_plus', 'left_for_one_month', 'rewards_earned',\n",
              "       'reward_rate', 'is_referred'],\n",
              "      dtype='object')"
            ]
          },
          "metadata": {
            "tags": []
          },
          "execution_count": 4
        }
      ]
    },
    {
      "cell_type": "code",
      "metadata": {
        "id": "LWQCemFUY11A",
        "colab_type": "code",
        "outputId": "b6779f36-2e3b-48b0-b53b-528a9f27a07c",
        "colab": {
          "base_uri": "https://localhost:8080/",
          "height": 317
        }
      },
      "source": [
        "dataset.describe()"
      ],
      "execution_count": 5,
      "outputs": [
        {
          "output_type": "execute_result",
          "data": {
            "text/html": [
              "<div>\n",
              "<style scoped>\n",
              "    .dataframe tbody tr th:only-of-type {\n",
              "        vertical-align: middle;\n",
              "    }\n",
              "\n",
              "    .dataframe tbody tr th {\n",
              "        vertical-align: top;\n",
              "    }\n",
              "\n",
              "    .dataframe thead th {\n",
              "        text-align: right;\n",
              "    }\n",
              "</style>\n",
              "<table border=\"1\" class=\"dataframe\">\n",
              "  <thead>\n",
              "    <tr style=\"text-align: right;\">\n",
              "      <th></th>\n",
              "      <th>user</th>\n",
              "      <th>churn</th>\n",
              "      <th>age</th>\n",
              "      <th>credit_score</th>\n",
              "      <th>deposits</th>\n",
              "      <th>withdrawal</th>\n",
              "      <th>purchases_partners</th>\n",
              "      <th>purchases</th>\n",
              "      <th>cc_taken</th>\n",
              "      <th>cc_recommended</th>\n",
              "      <th>cc_disliked</th>\n",
              "      <th>cc_liked</th>\n",
              "      <th>cc_application_begin</th>\n",
              "      <th>app_downloaded</th>\n",
              "      <th>web_user</th>\n",
              "      <th>app_web_user</th>\n",
              "      <th>ios_user</th>\n",
              "      <th>android_user</th>\n",
              "      <th>registered_phones</th>\n",
              "      <th>waiting_4_loan</th>\n",
              "      <th>cancelled_loan</th>\n",
              "      <th>received_loan</th>\n",
              "      <th>rejected_loan</th>\n",
              "      <th>left_for_two_month_plus</th>\n",
              "      <th>left_for_one_month</th>\n",
              "      <th>rewards_earned</th>\n",
              "      <th>reward_rate</th>\n",
              "      <th>is_referred</th>\n",
              "    </tr>\n",
              "  </thead>\n",
              "  <tbody>\n",
              "    <tr>\n",
              "      <th>count</th>\n",
              "      <td>27000.000000</td>\n",
              "      <td>27000.000000</td>\n",
              "      <td>26996.000000</td>\n",
              "      <td>18969.000000</td>\n",
              "      <td>27000.000000</td>\n",
              "      <td>27000.000000</td>\n",
              "      <td>27000.000000</td>\n",
              "      <td>27000.000000</td>\n",
              "      <td>27000.000000</td>\n",
              "      <td>27000.000000</td>\n",
              "      <td>27000.000000</td>\n",
              "      <td>27000.000000</td>\n",
              "      <td>27000.000000</td>\n",
              "      <td>27000.000000</td>\n",
              "      <td>27000.000000</td>\n",
              "      <td>27000.000000</td>\n",
              "      <td>27000.000000</td>\n",
              "      <td>27000.000000</td>\n",
              "      <td>27000.000000</td>\n",
              "      <td>27000.000000</td>\n",
              "      <td>27000.000000</td>\n",
              "      <td>27000.000000</td>\n",
              "      <td>27000.000000</td>\n",
              "      <td>27000.000000</td>\n",
              "      <td>27000.000000</td>\n",
              "      <td>23773.000000</td>\n",
              "      <td>27000.000000</td>\n",
              "      <td>27000.000000</td>\n",
              "    </tr>\n",
              "    <tr>\n",
              "      <th>mean</th>\n",
              "      <td>35422.702519</td>\n",
              "      <td>0.413852</td>\n",
              "      <td>32.219921</td>\n",
              "      <td>542.944225</td>\n",
              "      <td>3.341556</td>\n",
              "      <td>0.307000</td>\n",
              "      <td>28.062519</td>\n",
              "      <td>3.273481</td>\n",
              "      <td>0.073778</td>\n",
              "      <td>92.625778</td>\n",
              "      <td>0.050630</td>\n",
              "      <td>0.013111</td>\n",
              "      <td>8.197852</td>\n",
              "      <td>0.952481</td>\n",
              "      <td>0.606074</td>\n",
              "      <td>0.561741</td>\n",
              "      <td>0.393926</td>\n",
              "      <td>0.587259</td>\n",
              "      <td>0.420926</td>\n",
              "      <td>0.001296</td>\n",
              "      <td>0.018815</td>\n",
              "      <td>0.018185</td>\n",
              "      <td>0.004889</td>\n",
              "      <td>0.173444</td>\n",
              "      <td>0.018074</td>\n",
              "      <td>29.110125</td>\n",
              "      <td>0.907684</td>\n",
              "      <td>0.318037</td>\n",
              "    </tr>\n",
              "    <tr>\n",
              "      <th>std</th>\n",
              "      <td>20321.006678</td>\n",
              "      <td>0.492532</td>\n",
              "      <td>9.964838</td>\n",
              "      <td>61.059315</td>\n",
              "      <td>9.131406</td>\n",
              "      <td>1.055416</td>\n",
              "      <td>42.219686</td>\n",
              "      <td>8.953077</td>\n",
              "      <td>0.437299</td>\n",
              "      <td>88.869343</td>\n",
              "      <td>0.871366</td>\n",
              "      <td>0.238158</td>\n",
              "      <td>12.497243</td>\n",
              "      <td>0.212749</td>\n",
              "      <td>0.488628</td>\n",
              "      <td>0.496183</td>\n",
              "      <td>0.488628</td>\n",
              "      <td>0.492336</td>\n",
              "      <td>0.912831</td>\n",
              "      <td>0.035981</td>\n",
              "      <td>0.135873</td>\n",
              "      <td>0.133623</td>\n",
              "      <td>0.069751</td>\n",
              "      <td>0.378638</td>\n",
              "      <td>0.133222</td>\n",
              "      <td>21.973478</td>\n",
              "      <td>0.752016</td>\n",
              "      <td>0.465723</td>\n",
              "    </tr>\n",
              "    <tr>\n",
              "      <th>min</th>\n",
              "      <td>1.000000</td>\n",
              "      <td>0.000000</td>\n",
              "      <td>17.000000</td>\n",
              "      <td>2.000000</td>\n",
              "      <td>0.000000</td>\n",
              "      <td>0.000000</td>\n",
              "      <td>0.000000</td>\n",
              "      <td>0.000000</td>\n",
              "      <td>0.000000</td>\n",
              "      <td>0.000000</td>\n",
              "      <td>0.000000</td>\n",
              "      <td>0.000000</td>\n",
              "      <td>0.000000</td>\n",
              "      <td>0.000000</td>\n",
              "      <td>0.000000</td>\n",
              "      <td>0.000000</td>\n",
              "      <td>0.000000</td>\n",
              "      <td>0.000000</td>\n",
              "      <td>0.000000</td>\n",
              "      <td>0.000000</td>\n",
              "      <td>0.000000</td>\n",
              "      <td>0.000000</td>\n",
              "      <td>0.000000</td>\n",
              "      <td>0.000000</td>\n",
              "      <td>0.000000</td>\n",
              "      <td>1.000000</td>\n",
              "      <td>0.000000</td>\n",
              "      <td>0.000000</td>\n",
              "    </tr>\n",
              "    <tr>\n",
              "      <th>25%</th>\n",
              "      <td>17810.500000</td>\n",
              "      <td>0.000000</td>\n",
              "      <td>25.000000</td>\n",
              "      <td>507.000000</td>\n",
              "      <td>0.000000</td>\n",
              "      <td>0.000000</td>\n",
              "      <td>0.000000</td>\n",
              "      <td>0.000000</td>\n",
              "      <td>0.000000</td>\n",
              "      <td>10.000000</td>\n",
              "      <td>0.000000</td>\n",
              "      <td>0.000000</td>\n",
              "      <td>0.000000</td>\n",
              "      <td>1.000000</td>\n",
              "      <td>0.000000</td>\n",
              "      <td>0.000000</td>\n",
              "      <td>0.000000</td>\n",
              "      <td>0.000000</td>\n",
              "      <td>0.000000</td>\n",
              "      <td>0.000000</td>\n",
              "      <td>0.000000</td>\n",
              "      <td>0.000000</td>\n",
              "      <td>0.000000</td>\n",
              "      <td>0.000000</td>\n",
              "      <td>0.000000</td>\n",
              "      <td>9.000000</td>\n",
              "      <td>0.200000</td>\n",
              "      <td>0.000000</td>\n",
              "    </tr>\n",
              "    <tr>\n",
              "      <th>50%</th>\n",
              "      <td>35749.000000</td>\n",
              "      <td>0.000000</td>\n",
              "      <td>30.000000</td>\n",
              "      <td>542.000000</td>\n",
              "      <td>0.000000</td>\n",
              "      <td>0.000000</td>\n",
              "      <td>9.000000</td>\n",
              "      <td>0.000000</td>\n",
              "      <td>0.000000</td>\n",
              "      <td>65.000000</td>\n",
              "      <td>0.000000</td>\n",
              "      <td>0.000000</td>\n",
              "      <td>4.000000</td>\n",
              "      <td>1.000000</td>\n",
              "      <td>1.000000</td>\n",
              "      <td>1.000000</td>\n",
              "      <td>0.000000</td>\n",
              "      <td>1.000000</td>\n",
              "      <td>0.000000</td>\n",
              "      <td>0.000000</td>\n",
              "      <td>0.000000</td>\n",
              "      <td>0.000000</td>\n",
              "      <td>0.000000</td>\n",
              "      <td>0.000000</td>\n",
              "      <td>0.000000</td>\n",
              "      <td>25.000000</td>\n",
              "      <td>0.780000</td>\n",
              "      <td>0.000000</td>\n",
              "    </tr>\n",
              "    <tr>\n",
              "      <th>75%</th>\n",
              "      <td>53244.250000</td>\n",
              "      <td>1.000000</td>\n",
              "      <td>37.000000</td>\n",
              "      <td>578.000000</td>\n",
              "      <td>1.000000</td>\n",
              "      <td>0.000000</td>\n",
              "      <td>43.000000</td>\n",
              "      <td>1.000000</td>\n",
              "      <td>0.000000</td>\n",
              "      <td>164.000000</td>\n",
              "      <td>0.000000</td>\n",
              "      <td>0.000000</td>\n",
              "      <td>11.000000</td>\n",
              "      <td>1.000000</td>\n",
              "      <td>1.000000</td>\n",
              "      <td>1.000000</td>\n",
              "      <td>1.000000</td>\n",
              "      <td>1.000000</td>\n",
              "      <td>0.000000</td>\n",
              "      <td>0.000000</td>\n",
              "      <td>0.000000</td>\n",
              "      <td>0.000000</td>\n",
              "      <td>0.000000</td>\n",
              "      <td>0.000000</td>\n",
              "      <td>0.000000</td>\n",
              "      <td>48.000000</td>\n",
              "      <td>1.530000</td>\n",
              "      <td>1.000000</td>\n",
              "    </tr>\n",
              "    <tr>\n",
              "      <th>max</th>\n",
              "      <td>69658.000000</td>\n",
              "      <td>1.000000</td>\n",
              "      <td>91.000000</td>\n",
              "      <td>838.000000</td>\n",
              "      <td>65.000000</td>\n",
              "      <td>29.000000</td>\n",
              "      <td>1067.000000</td>\n",
              "      <td>63.000000</td>\n",
              "      <td>29.000000</td>\n",
              "      <td>522.000000</td>\n",
              "      <td>65.000000</td>\n",
              "      <td>27.000000</td>\n",
              "      <td>263.000000</td>\n",
              "      <td>1.000000</td>\n",
              "      <td>1.000000</td>\n",
              "      <td>1.000000</td>\n",
              "      <td>1.000000</td>\n",
              "      <td>1.000000</td>\n",
              "      <td>5.000000</td>\n",
              "      <td>1.000000</td>\n",
              "      <td>1.000000</td>\n",
              "      <td>1.000000</td>\n",
              "      <td>1.000000</td>\n",
              "      <td>1.000000</td>\n",
              "      <td>1.000000</td>\n",
              "      <td>114.000000</td>\n",
              "      <td>4.000000</td>\n",
              "      <td>1.000000</td>\n",
              "    </tr>\n",
              "  </tbody>\n",
              "</table>\n",
              "</div>"
            ],
            "text/plain": [
              "               user         churn  ...   reward_rate   is_referred\n",
              "count  27000.000000  27000.000000  ...  27000.000000  27000.000000\n",
              "mean   35422.702519      0.413852  ...      0.907684      0.318037\n",
              "std    20321.006678      0.492532  ...      0.752016      0.465723\n",
              "min        1.000000      0.000000  ...      0.000000      0.000000\n",
              "25%    17810.500000      0.000000  ...      0.200000      0.000000\n",
              "50%    35749.000000      0.000000  ...      0.780000      0.000000\n",
              "75%    53244.250000      1.000000  ...      1.530000      1.000000\n",
              "max    69658.000000      1.000000  ...      4.000000      1.000000\n",
              "\n",
              "[8 rows x 28 columns]"
            ]
          },
          "metadata": {
            "tags": []
          },
          "execution_count": 5
        }
      ]
    },
    {
      "cell_type": "markdown",
      "metadata": {
        "id": "GLNGRqByapM8",
        "colab_type": "text"
      },
      "source": [
        "#### Removing NaN"
      ]
    },
    {
      "cell_type": "code",
      "metadata": {
        "id": "wClBUOzHY4nF",
        "colab_type": "code",
        "outputId": "40759e3b-5392-4e83-beae-96c50635aa0f",
        "colab": {
          "base_uri": "https://localhost:8080/",
          "height": 561
        }
      },
      "source": [
        "dataset.isna().any() #columns having atleast one NaN in them"
      ],
      "execution_count": 6,
      "outputs": [
        {
          "output_type": "execute_result",
          "data": {
            "text/plain": [
              "user                       False\n",
              "churn                      False\n",
              "age                         True\n",
              "housing                    False\n",
              "credit_score                True\n",
              "deposits                   False\n",
              "withdrawal                 False\n",
              "purchases_partners         False\n",
              "purchases                  False\n",
              "cc_taken                   False\n",
              "cc_recommended             False\n",
              "cc_disliked                False\n",
              "cc_liked                   False\n",
              "cc_application_begin       False\n",
              "app_downloaded             False\n",
              "web_user                   False\n",
              "app_web_user               False\n",
              "ios_user                   False\n",
              "android_user               False\n",
              "registered_phones          False\n",
              "payment_type               False\n",
              "waiting_4_loan             False\n",
              "cancelled_loan             False\n",
              "received_loan              False\n",
              "rejected_loan              False\n",
              "zodiac_sign                False\n",
              "left_for_two_month_plus    False\n",
              "left_for_one_month         False\n",
              "rewards_earned              True\n",
              "reward_rate                False\n",
              "is_referred                False\n",
              "dtype: bool"
            ]
          },
          "metadata": {
            "tags": []
          },
          "execution_count": 6
        }
      ]
    },
    {
      "cell_type": "code",
      "metadata": {
        "id": "6bx_xNAbagzt",
        "colab_type": "code",
        "outputId": "a96b4f6f-e613-4b50-a759-9bc98e813721",
        "colab": {
          "base_uri": "https://localhost:8080/",
          "height": 561
        }
      },
      "source": [
        "dataset.isna().sum()"
      ],
      "execution_count": 7,
      "outputs": [
        {
          "output_type": "execute_result",
          "data": {
            "text/plain": [
              "user                          0\n",
              "churn                         0\n",
              "age                           4\n",
              "housing                       0\n",
              "credit_score               8031\n",
              "deposits                      0\n",
              "withdrawal                    0\n",
              "purchases_partners            0\n",
              "purchases                     0\n",
              "cc_taken                      0\n",
              "cc_recommended                0\n",
              "cc_disliked                   0\n",
              "cc_liked                      0\n",
              "cc_application_begin          0\n",
              "app_downloaded                0\n",
              "web_user                      0\n",
              "app_web_user                  0\n",
              "ios_user                      0\n",
              "android_user                  0\n",
              "registered_phones             0\n",
              "payment_type                  0\n",
              "waiting_4_loan                0\n",
              "cancelled_loan                0\n",
              "received_loan                 0\n",
              "rejected_loan                 0\n",
              "zodiac_sign                   0\n",
              "left_for_two_month_plus       0\n",
              "left_for_one_month            0\n",
              "rewards_earned             3227\n",
              "reward_rate                   0\n",
              "is_referred                   0\n",
              "dtype: int64"
            ]
          },
          "metadata": {
            "tags": []
          },
          "execution_count": 7
        }
      ]
    },
    {
      "cell_type": "code",
      "metadata": {
        "id": "MI5qezVGUEbj",
        "colab_type": "code",
        "outputId": "439720f5-d2cd-4e0b-816e-4851802bfd87",
        "colab": {
          "base_uri": "https://localhost:8080/",
          "height": 34
        }
      },
      "source": [
        "dataset.shape"
      ],
      "execution_count": 8,
      "outputs": [
        {
          "output_type": "execute_result",
          "data": {
            "text/plain": [
              "(27000, 31)"
            ]
          },
          "metadata": {
            "tags": []
          },
          "execution_count": 8
        }
      ]
    },
    {
      "cell_type": "code",
      "metadata": {
        "id": "68zXderDTbR0",
        "colab_type": "code",
        "colab": {}
      },
      "source": [
        "dataset = dataset[pd.notnull(dataset['age'])]    #Return all the rows in which a particular column has no null values"
      ],
      "execution_count": 0,
      "outputs": []
    },
    {
      "cell_type": "code",
      "metadata": {
        "id": "Vk4v7CvUUIGT",
        "colab_type": "code",
        "outputId": "16143b95-3487-4dec-bcf6-77d5efe83747",
        "colab": {
          "base_uri": "https://localhost:8080/",
          "height": 34
        }
      },
      "source": [
        "dataset.shape"
      ],
      "execution_count": 10,
      "outputs": [
        {
          "output_type": "execute_result",
          "data": {
            "text/plain": [
              "(26996, 31)"
            ]
          },
          "metadata": {
            "tags": []
          },
          "execution_count": 10
        }
      ]
    },
    {
      "cell_type": "code",
      "metadata": {
        "id": "8vTWtQf7ULwr",
        "colab_type": "code",
        "colab": {}
      },
      "source": [
        "dataset = dataset.drop(columns = ['credit_score', 'rewards_earned'])"
      ],
      "execution_count": 0,
      "outputs": []
    },
    {
      "cell_type": "code",
      "metadata": {
        "id": "el9cSgEbUkHL",
        "colab_type": "code",
        "outputId": "42ada6fc-9b23-4fb8-9cd6-a17da7d9306b",
        "colab": {
          "base_uri": "https://localhost:8080/",
          "height": 34
        }
      },
      "source": [
        "dataset.shape"
      ],
      "execution_count": 12,
      "outputs": [
        {
          "output_type": "execute_result",
          "data": {
            "text/plain": [
              "(26996, 29)"
            ]
          },
          "metadata": {
            "tags": []
          },
          "execution_count": 12
        }
      ]
    },
    {
      "cell_type": "markdown",
      "metadata": {
        "id": "aWMmX6KKnW4G",
        "colab_type": "text"
      },
      "source": [
        "##Exploratory Data Analysis"
      ]
    },
    {
      "cell_type": "markdown",
      "metadata": {
        "id": "8QQgVRZso6eA",
        "colab_type": "text"
      },
      "source": [
        "### Feature Histogram"
      ]
    },
    {
      "cell_type": "code",
      "metadata": {
        "id": "KtXgATWopA6w",
        "colab_type": "code",
        "colab": {}
      },
      "source": [
        "dataset2 = dataset.drop(columns = ['user', 'churn'])"
      ],
      "execution_count": 0,
      "outputs": []
    },
    {
      "cell_type": "code",
      "metadata": {
        "id": "Gca1dS9ipM0z",
        "colab_type": "code",
        "outputId": "7863746b-b033-4c30-fbcb-bf8c2249653d",
        "colab": {
          "base_uri": "https://localhost:8080/",
          "height": 841
        }
      },
      "source": [
        "fig = plt.figure(figsize = (15,12))\n",
        "plt.suptitle('Histograms of numerical columns', fontsize = 20)\n",
        "for i in range(1, dataset2.shape[1] + 1):\n",
        "  plt.subplot(6, 5, i)\n",
        "  f = plt.gca()\n",
        "  f.axes.get_yaxis().set_visible(False)\n",
        "  f.set_title(dataset2.columns.values[i - 1])\n",
        "\n",
        "  vals = np.size(dataset2.iloc[:, i - 1].unique())\n",
        "\n",
        "  plt.hist(dataset2.iloc[:, i - 1], bins = vals, color = '#3F5D7D')\n",
        "plt.tight_layout(rect=[0, 0.03, 1, 0.95])"
      ],
      "execution_count": 14,
      "outputs": [
        {
          "output_type": "display_data",
          "data": {
            "image/png": "[encoded data removed]",
            "text/plain": [
              "<Figure size 1080x864 with 27 Axes>"
            ]
          },
          "metadata": {
            "tags": [],
            "needs_background": "light"
          }
        }
      ]
    },
    {
      "cell_type": "markdown",
      "metadata": {
        "id": "q4tp_YBMncVV",
        "colab_type": "text"
      },
      "source": [
        "###Pie Plots"
      ]
    },
    {
      "cell_type": "code",
      "metadata": {
        "id": "Ka3KzymTruld",
        "colab_type": "code",
        "outputId": "085ef740-015c-4508-8db3-329b9e2cbfd8",
        "colab": {
          "base_uri": "https://localhost:8080/",
          "height": 841
        }
      },
      "source": [
        "dataset2 = dataset[['housing', 'is_referred', 'app_downloaded', 'web_user', 'app_web_user', 'ios_user', 'android_user', 'registered_phones',\n",
        "                    'payment_type', 'waiting_4_loan', 'cancelled_loan', 'received_loan', 'rejected_loan', 'zodiac_sign', 'left_for_two_month_plus',\n",
        "                    'left_for_one_month', 'is_referred']]\n",
        "\n",
        "fig = plt.figure(figsize = (15,12))\n",
        "plt.suptitle('Pie Chart Distributions', fontsize = 20)\n",
        "for i in range(1, dataset2.shape[1] + 1):\n",
        "  plt.subplot(6, 3, i)\n",
        "  f = plt.gca()\n",
        "  f.axes.get_yaxis().set_visible(False)\n",
        "  f.set_title(dataset2.columns.values[i - 1])\n",
        "\n",
        "  values = dataset2.iloc[:, i - 1].value_counts(normalize = True).values\n",
        "  index = dataset2.iloc[:, i - 1].value_counts(normalize = True).index\n",
        "\n",
        "  plt.pie(values, labels = index, autopct = '%1.1f%%')\n",
        "  plt.axis('equal')\n",
        "plt.tight_layout(rect=[0, 0.03, 1, 0.95])"
      ],
      "execution_count": 15,
      "outputs": [
        {
          "output_type": "display_data",
          "data": {
            "image/png": "[encoded data removed]",
            "text/plain": [
              "<Figure size 1080x864 with 17 Axes>"
            ]
          },
          "metadata": {
            "tags": []
          }
        }
      ]
    },
    {
      "cell_type": "code",
      "metadata": {
        "id": "DY9DlaOcpWar",
        "colab_type": "code",
        "outputId": "4b6a52b7-f5f2-4f97-e97e-6008e136be05",
        "colab": {
          "base_uri": "https://localhost:8080/",
          "height": 68
        }
      },
      "source": [
        "dataset[dataset2.waiting_4_loan == 1].churn.value_counts()  #for those rows where waiting_4_loan is '1', what is the churn value?"
      ],
      "execution_count": 16,
      "outputs": [
        {
          "output_type": "execute_result",
          "data": {
            "text/plain": [
              "0    27\n",
              "1     8\n",
              "Name: churn, dtype: int64"
            ]
          },
          "metadata": {
            "tags": []
          },
          "execution_count": 16
        }
      ]
    },
    {
      "cell_type": "code",
      "metadata": {
        "id": "qtWbkiQ5qJZG",
        "colab_type": "code",
        "outputId": "8515e962-567c-442b-ffa7-57aaf2212aaa",
        "colab": {
          "base_uri": "https://localhost:8080/",
          "height": 68
        }
      },
      "source": [
        "dataset[dataset2.cancelled_loan == 1].churn.value_counts()"
      ],
      "execution_count": 17,
      "outputs": [
        {
          "output_type": "execute_result",
          "data": {
            "text/plain": [
              "1    274\n",
              "0    234\n",
              "Name: churn, dtype: int64"
            ]
          },
          "metadata": {
            "tags": []
          },
          "execution_count": 17
        }
      ]
    },
    {
      "cell_type": "code",
      "metadata": {
        "id": "KWIZVn5Yrgx_",
        "colab_type": "code",
        "outputId": "2e305885-ebc3-4403-bba7-9fbab9cb401d",
        "colab": {
          "base_uri": "https://localhost:8080/",
          "height": 68
        }
      },
      "source": [
        "dataset[dataset2.received_loan == 1].churn.value_counts()"
      ],
      "execution_count": 18,
      "outputs": [
        {
          "output_type": "execute_result",
          "data": {
            "text/plain": [
              "1    292\n",
              "0    199\n",
              "Name: churn, dtype: int64"
            ]
          },
          "metadata": {
            "tags": []
          },
          "execution_count": 18
        }
      ]
    },
    {
      "cell_type": "code",
      "metadata": {
        "id": "lIWEg3JErjfO",
        "colab_type": "code",
        "outputId": "2145b68b-d0d4-4ee7-e599-78d1f3b6585a",
        "colab": {
          "base_uri": "https://localhost:8080/",
          "height": 68
        }
      },
      "source": [
        "dataset[dataset2.rejected_loan == 1].churn.value_counts()"
      ],
      "execution_count": 19,
      "outputs": [
        {
          "output_type": "execute_result",
          "data": {
            "text/plain": [
              "1    107\n",
              "0     25\n",
              "Name: churn, dtype: int64"
            ]
          },
          "metadata": {
            "tags": []
          },
          "execution_count": 19
        }
      ]
    },
    {
      "cell_type": "code",
      "metadata": {
        "id": "BtyJMbcIrnBe",
        "colab_type": "code",
        "outputId": "7769dcf6-cd89-472e-eacf-a69803646a41",
        "colab": {
          "base_uri": "https://localhost:8080/",
          "height": 68
        }
      },
      "source": [
        "dataset[dataset2.left_for_one_month == 1].churn.value_counts()"
      ],
      "execution_count": 20,
      "outputs": [
        {
          "output_type": "execute_result",
          "data": {
            "text/plain": [
              "1    266\n",
              "0    222\n",
              "Name: churn, dtype: int64"
            ]
          },
          "metadata": {
            "tags": []
          },
          "execution_count": 20
        }
      ]
    },
    {
      "cell_type": "markdown",
      "metadata": {
        "id": "z7_zApU5rzSK",
        "colab_type": "text"
      },
      "source": [
        "So the distrubutions in the particular fields are even, and need not be excluded."
      ]
    },
    {
      "cell_type": "markdown",
      "metadata": {
        "id": "hnSKLaSuxuC5",
        "colab_type": "text"
      },
      "source": [
        "###Correlation Plot"
      ]
    },
    {
      "cell_type": "code",
      "metadata": {
        "id": "eh0GE6gnrtOm",
        "colab_type": "code",
        "outputId": "b7d2eac3-7b94-46e7-d183-6e7440330a8e",
        "colab": {
          "base_uri": "https://localhost:8080/",
          "height": 755
        }
      },
      "source": [
        "#To remove the categorical variables and keep the binary variable\n",
        "dataset.drop(columns = ['churn', 'user', 'housing', 'payment_type', 'zodiac_sign']).corrwith(dataset.churn).plot.bar(\n",
        "    figsize = (20,10),\n",
        "    title = 'Correlation with response variable',\n",
        "    fontsize = 15,\n",
        "    rot = 45,\n",
        "    grid = True\n",
        ")"
      ],
      "execution_count": 21,
      "outputs": [
        {
          "output_type": "execute_result",
          "data": {
            "text/plain": [
              "<matplotlib.axes._subplots.AxesSubplot at 0x7fe8d22145c0>"
            ]
          },
          "metadata": {
            "tags": []
          },
          "execution_count": 21
        },
        {
          "output_type": "display_data",
          "data": {
            "image/png": "[encoded data removed]",
            "text/plain": [
              "<Figure size 1440x720 with 1 Axes>"
            ]
          },
          "metadata": {
            "tags": [],
            "needs_background": "light"
          }
        }
      ]
    },
    {
      "cell_type": "markdown",
      "metadata": {
        "id": "_F_4cXl9zmej",
        "colab_type": "text"
      },
      "source": [
        "- Age: Age is negaitively correlated to the response variable, the smaller the age the more likely it is for the response variable to be 1. The younger you are the most likely for you to churn.    \n",
        "- Same goes to deposits, withdrawals, purchase, purchase_partners.  \n",
        "- cc-taken: If you take the credit card with us, it is going to be more likely to churn.  \n",
        "- cc-recomended: The less no.of recomendation you have, the more likely you are to churn.\n",
        "- Dislike and like are both positively correlated, the more dislikes and likes you the have the more likely you are to churn. It is weakly correlated.\n",
        "- cc-application_begin and app_donwloaded are negatively correlated. If the customer has begin the application or downloaded the app, the customer is less likely to churn.  \n",
        "- An web_user, app_web_user or iOS_user is more likely to churn than an android_user.  \n",
        "- If the customer has registered more phones, he/she is more likely to churn.\n",
        "- Cancelled_loan, received_loan, rejected_loan, left_for_two_month_plus, left_for_month are all positively correlated. "
      ]
    },
    {
      "cell_type": "markdown",
      "metadata": {
        "id": "FNCyy7KK4k7D",
        "colab_type": "text"
      },
      "source": [
        "###Correlation Matrix"
      ]
    },
    {
      "cell_type": "code",
      "metadata": {
        "id": "tF_KMA184nTL",
        "colab_type": "code",
        "outputId": "0ac91a9c-e376-48a3-b61e-364f07559c6d",
        "colab": {
          "base_uri": "https://localhost:8080/",
          "height": 995
        }
      },
      "source": [
        "sns.set(style='white')\n",
        "corr = dataset.drop(columns = ['user', 'churn']).corr()\n",
        "\n",
        "mask = np.zeros_like(corr, dtype = np.bool)\n",
        "mask[np.triu_indices_from(mask)] = True\n",
        "\n",
        "f, ax = plt.subplots(figsize = (18,15))\n",
        "\n",
        "cmap = sns.diverging_palette(220, 10, as_cmap=True)\n",
        "\n",
        "sns.heatmap(corr, mask=mask, cmap=cmap, vmax=.3, center=0,\n",
        "            square=True, linewidths=.5, cbar_kws={\"shrink\": .5})"
      ],
      "execution_count": 22,
      "outputs": [
        {
          "output_type": "execute_result",
          "data": {
            "text/plain": [
              "<matplotlib.axes._subplots.AxesSubplot at 0x7fe8d216c400>"
            ]
          },
          "metadata": {
            "tags": []
          },
          "execution_count": 22
        },
        {
          "output_type": "display_data",
          "data": {
            "image/png": "[encoded data removed]",
            "text/plain": [
              "<Figure size 1296x1080 with 2 Axes>"
            ]
          },
          "metadata": {
            "tags": []
          }
        }
      ]
    },
    {
      "cell_type": "code",
      "metadata": {
        "id": "qUsljNUOATox",
        "colab_type": "code",
        "colab": {}
      },
      "source": [
        "dataset = dataset.drop(columns = ['app_web_user'])"
      ],
      "execution_count": 0,
      "outputs": []
    },
    {
      "cell_type": "code",
      "metadata": {
        "id": "qzT-6LTuChWn",
        "colab_type": "code",
        "colab": {}
      },
      "source": [
        "user_indentifier = dataset['user']\n",
        "dataset = dataset.drop(columns = ['user'])\n"
      ],
      "execution_count": 0,
      "outputs": []
    },
    {
      "cell_type": "code",
      "metadata": {
        "id": "jHgWeBwlp7Gx",
        "colab_type": "code",
        "colab": {
          "base_uri": "https://localhost:8080/",
          "height": 85
        },
        "outputId": "6cf90c55-a90f-4aff-b19a-e5b0a458779c"
      },
      "source": [
        "#One Hot Encoding\n",
        "dataset.housing.value_counts()"
      ],
      "execution_count": 25,
      "outputs": [
        {
          "output_type": "execute_result",
          "data": {
            "text/plain": [
              "na    13856\n",
              "R     10969\n",
              "O      2171\n",
              "Name: housing, dtype: int64"
            ]
          },
          "metadata": {
            "tags": []
          },
          "execution_count": 25
        }
      ]
    },
    {
      "cell_type": "code",
      "metadata": {
        "id": "ACgrZ0XIqNxD",
        "colab_type": "code",
        "colab": {
          "base_uri": "https://localhost:8080/",
          "height": 255
        },
        "outputId": "6220dbc0-f7dd-4c96-86fb-0b61638a08e6"
      },
      "source": [
        "dataset = pd.get_dummies(dataset)\n",
        "dataset.columns"
      ],
      "execution_count": 26,
      "outputs": [
        {
          "output_type": "execute_result",
          "data": {
            "text/plain": [
              "Index(['churn', 'age', 'deposits', 'withdrawal', 'purchases_partners',\n",
              "       'purchases', 'cc_taken', 'cc_recommended', 'cc_disliked', 'cc_liked',\n",
              "       'cc_application_begin', 'app_downloaded', 'web_user', 'ios_user',\n",
              "       'android_user', 'registered_phones', 'waiting_4_loan', 'cancelled_loan',\n",
              "       'received_loan', 'rejected_loan', 'left_for_two_month_plus',\n",
              "       'left_for_one_month', 'reward_rate', 'is_referred', 'housing_O',\n",
              "       'housing_R', 'housing_na', 'payment_type_Bi-Weekly',\n",
              "       'payment_type_Monthly', 'payment_type_Semi-Monthly',\n",
              "       'payment_type_Weekly', 'payment_type_na', 'zodiac_sign_Aquarius',\n",
              "       'zodiac_sign_Aries', 'zodiac_sign_Cancer', 'zodiac_sign_Capricorn',\n",
              "       'zodiac_sign_Gemini', 'zodiac_sign_Leo', 'zodiac_sign_Libra',\n",
              "       'zodiac_sign_Pisces', 'zodiac_sign_Sagittarius', 'zodiac_sign_Scorpio',\n",
              "       'zodiac_sign_Taurus', 'zodiac_sign_Virgo', 'zodiac_sign_na'],\n",
              "      dtype='object')"
            ]
          },
          "metadata": {
            "tags": []
          },
          "execution_count": 26
        }
      ]
    },
    {
      "cell_type": "code",
      "metadata": {
        "id": "Q0esq9fNqlSg",
        "colab_type": "code",
        "colab": {}
      },
      "source": [
        "dataset = dataset.drop(columns = ['housing_na', 'payment_type_na', 'zodiac_sign_na'])"
      ],
      "execution_count": 0,
      "outputs": []
    },
    {
      "cell_type": "code",
      "metadata": {
        "id": "Z75e3bqSrdXP",
        "colab_type": "code",
        "colab": {}
      },
      "source": [
        "from sklearn.model_selection import train_test_split\n",
        "X_train, X_test, y_train, y_test = train_test_split(dataset.drop(columns = ['churn']),\n",
        "                                                    dataset['churn'],\n",
        "                                                    test_size = 0.2,\n",
        "                                                    random_state = 0)"
      ],
      "execution_count": 0,
      "outputs": []
    },
    {
      "cell_type": "markdown",
      "metadata": {
        "id": "en68qI4Xtx_J",
        "colab_type": "text"
      },
      "source": [
        "###Balancing & Feature Scaling"
      ]
    },
    {
      "cell_type": "code",
      "metadata": {
        "id": "-Yp9TWlmtfZS",
        "colab_type": "code",
        "colab": {
          "base_uri": "https://localhost:8080/",
          "height": 68
        },
        "outputId": "32799f1c-86f7-497f-e908-35d4475c7d69"
      },
      "source": [
        "y_train.value_counts()"
      ],
      "execution_count": 29,
      "outputs": [
        {
          "output_type": "execute_result",
          "data": {
            "text/plain": [
              "0    12656\n",
              "1     8940\n",
              "Name: churn, dtype: int64"
            ]
          },
          "metadata": {
            "tags": []
          },
          "execution_count": 29
        }
      ]
    },
    {
      "cell_type": "code",
      "metadata": {
        "id": "GBCXzIHYt3m6",
        "colab_type": "code",
        "colab": {}
      },
      "source": [
        "#splitting dataset into positive and negative values\n",
        "pos_index = y_train[y_train.values == 1].index\n",
        "neg_index = y_train[y_train.values == 0].index"
      ],
      "execution_count": 0,
      "outputs": []
    },
    {
      "cell_type": "code",
      "metadata": {
        "id": "vycBFOcUuoSu",
        "colab_type": "code",
        "colab": {}
      },
      "source": [
        "# Selecting which value have higher list and which have lower\n",
        "import random\n",
        "if len(pos_index) > len(neg_index):\n",
        "  higher = pos_index\n",
        "  lower = neg_index\n",
        "else: \n",
        "  higher = neg_index\n",
        "  lower = pos_index\n",
        "# Making the higher as big as the lower by chopping down of the items randomly\n",
        "random.seed(0)\n",
        "higher = np.random.choice(higher, size = len(lower))\n",
        "lower = np.asarray(lower)\n",
        "new_indexes = np.concatenate((lower, higher))\n",
        "\n",
        "X_train = X_train.loc[new_indexes, ]\n",
        "y_train = y_train[new_indexes]"
      ],
      "execution_count": 0,
      "outputs": []
    },
    {
      "cell_type": "code",
      "metadata": {
        "id": "rwypInMVwhNr",
        "colab_type": "code",
        "colab": {}
      },
      "source": [
        "from sklearn.preprocessing import StandardScaler\n",
        "sc_X = StandardScaler()\n",
        "X_train2 = pd.DataFrame(sc_X.fit_transform(X_train))\n",
        "X_test2 = pd.DataFrame(sc_X.transform(X_test))\n",
        "X_train2.columns = X_train.columns.values\n",
        "X_test2.columns = X_test.columns\n",
        "X_train2.index = X_train.index.values\n",
        "X_test2.index = X_test.index.values\n",
        "X_train = X_train2\n",
        "X_test = X_test2\n"
      ],
      "execution_count": 0,
      "outputs": []
    },
    {
      "cell_type": "code",
      "metadata": {
        "id": "w2hFKOES00_Q",
        "colab_type": "code",
        "colab": {
          "base_uri": "https://localhost:8080/",
          "height": 241
        },
        "outputId": "19648636-cec8-41be-a46f-b9410265c8cf"
      },
      "source": [
        "X_train.head()"
      ],
      "execution_count": 33,
      "outputs": [
        {
          "output_type": "execute_result",
          "data": {
            "text/html": [
              "<div>\n",
              "<style scoped>\n",
              "    .dataframe tbody tr th:only-of-type {\n",
              "        vertical-align: middle;\n",
              "    }\n",
              "\n",
              "    .dataframe tbody tr th {\n",
              "        vertical-align: top;\n",
              "    }\n",
              "\n",
              "    .dataframe thead th {\n",
              "        text-align: right;\n",
              "    }\n",
              "</style>\n",
              "<table border=\"1\" class=\"dataframe\">\n",
              "  <thead>\n",
              "    <tr style=\"text-align: right;\">\n",
              "      <th></th>\n",
              "      <th>age</th>\n",
              "      <th>deposits</th>\n",
              "      <th>withdrawal</th>\n",
              "      <th>purchases_partners</th>\n",
              "      <th>purchases</th>\n",
              "      <th>cc_taken</th>\n",
              "      <th>cc_recommended</th>\n",
              "      <th>cc_disliked</th>\n",
              "      <th>cc_liked</th>\n",
              "      <th>cc_application_begin</th>\n",
              "      <th>app_downloaded</th>\n",
              "      <th>web_user</th>\n",
              "      <th>ios_user</th>\n",
              "      <th>android_user</th>\n",
              "      <th>registered_phones</th>\n",
              "      <th>waiting_4_loan</th>\n",
              "      <th>cancelled_loan</th>\n",
              "      <th>received_loan</th>\n",
              "      <th>rejected_loan</th>\n",
              "      <th>left_for_two_month_plus</th>\n",
              "      <th>left_for_one_month</th>\n",
              "      <th>reward_rate</th>\n",
              "      <th>is_referred</th>\n",
              "      <th>housing_O</th>\n",
              "      <th>housing_R</th>\n",
              "      <th>payment_type_Bi-Weekly</th>\n",
              "      <th>payment_type_Monthly</th>\n",
              "      <th>payment_type_Semi-Monthly</th>\n",
              "      <th>payment_type_Weekly</th>\n",
              "      <th>zodiac_sign_Aquarius</th>\n",
              "      <th>zodiac_sign_Aries</th>\n",
              "      <th>zodiac_sign_Cancer</th>\n",
              "      <th>zodiac_sign_Capricorn</th>\n",
              "      <th>zodiac_sign_Gemini</th>\n",
              "      <th>zodiac_sign_Leo</th>\n",
              "      <th>zodiac_sign_Libra</th>\n",
              "      <th>zodiac_sign_Pisces</th>\n",
              "      <th>zodiac_sign_Sagittarius</th>\n",
              "      <th>zodiac_sign_Scorpio</th>\n",
              "      <th>zodiac_sign_Taurus</th>\n",
              "      <th>zodiac_sign_Virgo</th>\n",
              "    </tr>\n",
              "  </thead>\n",
              "  <tbody>\n",
              "    <tr>\n",
              "      <th>11697</th>\n",
              "      <td>-0.620163</td>\n",
              "      <td>-0.358425</td>\n",
              "      <td>-0.294436</td>\n",
              "      <td>-0.594057</td>\n",
              "      <td>-0.358032</td>\n",
              "      <td>-0.162747</td>\n",
              "      <td>-0.909512</td>\n",
              "      <td>-0.059775</td>\n",
              "      <td>-0.075275</td>\n",
              "      <td>-0.549503</td>\n",
              "      <td>0.225882</td>\n",
              "      <td>-1.254058</td>\n",
              "      <td>-0.811843</td>\n",
              "      <td>0.847588</td>\n",
              "      <td>-0.469414</td>\n",
              "      <td>-0.032615</td>\n",
              "      <td>-0.142735</td>\n",
              "      <td>-0.144761</td>\n",
              "      <td>-0.072698</td>\n",
              "      <td>-0.458334</td>\n",
              "      <td>-0.140475</td>\n",
              "      <td>-0.519134</td>\n",
              "      <td>-0.676263</td>\n",
              "      <td>-0.295511</td>\n",
              "      <td>1.220474</td>\n",
              "      <td>-0.940999</td>\n",
              "      <td>-0.333747</td>\n",
              "      <td>-0.311772</td>\n",
              "      <td>1.998603</td>\n",
              "      <td>3.486651</td>\n",
              "      <td>-0.2792</td>\n",
              "      <td>-0.315215</td>\n",
              "      <td>-0.158096</td>\n",
              "      <td>-0.288972</td>\n",
              "      <td>-0.312419</td>\n",
              "      <td>-0.301070</td>\n",
              "      <td>-0.290786</td>\n",
              "      <td>-0.29293</td>\n",
              "      <td>-0.291803</td>\n",
              "      <td>-0.296293</td>\n",
              "      <td>-0.315429</td>\n",
              "    </tr>\n",
              "    <tr>\n",
              "      <th>19770</th>\n",
              "      <td>-0.418667</td>\n",
              "      <td>-0.358425</td>\n",
              "      <td>-0.294436</td>\n",
              "      <td>-0.642522</td>\n",
              "      <td>-0.358032</td>\n",
              "      <td>-0.162747</td>\n",
              "      <td>0.314812</td>\n",
              "      <td>1.224812</td>\n",
              "      <td>-0.075275</td>\n",
              "      <td>-0.549503</td>\n",
              "      <td>0.225882</td>\n",
              "      <td>0.797411</td>\n",
              "      <td>-0.811843</td>\n",
              "      <td>0.847588</td>\n",
              "      <td>-0.469414</td>\n",
              "      <td>-0.032615</td>\n",
              "      <td>-0.142735</td>\n",
              "      <td>-0.144761</td>\n",
              "      <td>-0.072698</td>\n",
              "      <td>-0.458334</td>\n",
              "      <td>-0.140475</td>\n",
              "      <td>0.943769</td>\n",
              "      <td>-0.676263</td>\n",
              "      <td>-0.295511</td>\n",
              "      <td>-0.819354</td>\n",
              "      <td>1.062700</td>\n",
              "      <td>-0.333747</td>\n",
              "      <td>-0.311772</td>\n",
              "      <td>-0.500350</td>\n",
              "      <td>-0.286808</td>\n",
              "      <td>-0.2792</td>\n",
              "      <td>-0.315215</td>\n",
              "      <td>-0.158096</td>\n",
              "      <td>-0.288972</td>\n",
              "      <td>-0.312419</td>\n",
              "      <td>3.321491</td>\n",
              "      <td>-0.290786</td>\n",
              "      <td>-0.29293</td>\n",
              "      <td>-0.291803</td>\n",
              "      <td>-0.296293</td>\n",
              "      <td>-0.315429</td>\n",
              "    </tr>\n",
              "    <tr>\n",
              "      <th>8356</th>\n",
              "      <td>0.286568</td>\n",
              "      <td>-0.358425</td>\n",
              "      <td>-0.294436</td>\n",
              "      <td>-0.642522</td>\n",
              "      <td>-0.358032</td>\n",
              "      <td>-0.162747</td>\n",
              "      <td>1.992590</td>\n",
              "      <td>-0.059775</td>\n",
              "      <td>-0.075275</td>\n",
              "      <td>-0.240763</td>\n",
              "      <td>0.225882</td>\n",
              "      <td>0.797411</td>\n",
              "      <td>-0.811843</td>\n",
              "      <td>0.847588</td>\n",
              "      <td>-0.469414</td>\n",
              "      <td>-0.032615</td>\n",
              "      <td>-0.142735</td>\n",
              "      <td>-0.144761</td>\n",
              "      <td>-0.072698</td>\n",
              "      <td>-0.458334</td>\n",
              "      <td>-0.140475</td>\n",
              "      <td>1.382640</td>\n",
              "      <td>-0.676263</td>\n",
              "      <td>-0.295511</td>\n",
              "      <td>-0.819354</td>\n",
              "      <td>-0.940999</td>\n",
              "      <td>-0.333747</td>\n",
              "      <td>-0.311772</td>\n",
              "      <td>-0.500350</td>\n",
              "      <td>-0.286808</td>\n",
              "      <td>-0.2792</td>\n",
              "      <td>-0.315215</td>\n",
              "      <td>-0.158096</td>\n",
              "      <td>-0.288972</td>\n",
              "      <td>-0.312419</td>\n",
              "      <td>-0.301070</td>\n",
              "      <td>-0.290786</td>\n",
              "      <td>-0.29293</td>\n",
              "      <td>-0.291803</td>\n",
              "      <td>-0.296293</td>\n",
              "      <td>3.170281</td>\n",
              "    </tr>\n",
              "    <tr>\n",
              "      <th>17887</th>\n",
              "      <td>0.588812</td>\n",
              "      <td>-0.358425</td>\n",
              "      <td>-0.294436</td>\n",
              "      <td>0.035997</td>\n",
              "      <td>-0.358032</td>\n",
              "      <td>-0.162747</td>\n",
              "      <td>-0.183987</td>\n",
              "      <td>-0.059775</td>\n",
              "      <td>-0.075275</td>\n",
              "      <td>-0.009208</td>\n",
              "      <td>0.225882</td>\n",
              "      <td>0.797411</td>\n",
              "      <td>1.231765</td>\n",
              "      <td>-1.179819</td>\n",
              "      <td>-0.469414</td>\n",
              "      <td>-0.032615</td>\n",
              "      <td>-0.142735</td>\n",
              "      <td>-0.144761</td>\n",
              "      <td>-0.072698</td>\n",
              "      <td>-0.458334</td>\n",
              "      <td>-0.140475</td>\n",
              "      <td>-0.652126</td>\n",
              "      <td>1.478715</td>\n",
              "      <td>-0.295511</td>\n",
              "      <td>1.220474</td>\n",
              "      <td>-0.940999</td>\n",
              "      <td>-0.333747</td>\n",
              "      <td>-0.311772</td>\n",
              "      <td>1.998603</td>\n",
              "      <td>-0.286808</td>\n",
              "      <td>-0.2792</td>\n",
              "      <td>-0.315215</td>\n",
              "      <td>-0.158096</td>\n",
              "      <td>-0.288972</td>\n",
              "      <td>-0.312419</td>\n",
              "      <td>-0.301070</td>\n",
              "      <td>-0.290786</td>\n",
              "      <td>-0.29293</td>\n",
              "      <td>-0.291803</td>\n",
              "      <td>3.375034</td>\n",
              "      <td>-0.315429</td>\n",
              "    </tr>\n",
              "    <tr>\n",
              "      <th>25153</th>\n",
              "      <td>-0.821659</td>\n",
              "      <td>-0.248144</td>\n",
              "      <td>-0.294436</td>\n",
              "      <td>-0.109400</td>\n",
              "      <td>-0.245770</td>\n",
              "      <td>-0.162747</td>\n",
              "      <td>-0.580758</td>\n",
              "      <td>-0.059775</td>\n",
              "      <td>-0.075275</td>\n",
              "      <td>-0.240763</td>\n",
              "      <td>0.225882</td>\n",
              "      <td>-1.254058</td>\n",
              "      <td>1.231765</td>\n",
              "      <td>-1.179819</td>\n",
              "      <td>-0.469414</td>\n",
              "      <td>-0.032615</td>\n",
              "      <td>-0.142735</td>\n",
              "      <td>-0.144761</td>\n",
              "      <td>-0.072698</td>\n",
              "      <td>-0.458334</td>\n",
              "      <td>-0.140475</td>\n",
              "      <td>-0.559032</td>\n",
              "      <td>1.478715</td>\n",
              "      <td>-0.295511</td>\n",
              "      <td>1.220474</td>\n",
              "      <td>-0.940999</td>\n",
              "      <td>-0.333747</td>\n",
              "      <td>-0.311772</td>\n",
              "      <td>1.998603</td>\n",
              "      <td>-0.286808</td>\n",
              "      <td>-0.2792</td>\n",
              "      <td>-0.315215</td>\n",
              "      <td>-0.158096</td>\n",
              "      <td>-0.288972</td>\n",
              "      <td>-0.312419</td>\n",
              "      <td>-0.301070</td>\n",
              "      <td>3.438953</td>\n",
              "      <td>-0.29293</td>\n",
              "      <td>-0.291803</td>\n",
              "      <td>-0.296293</td>\n",
              "      <td>-0.315429</td>\n",
              "    </tr>\n",
              "  </tbody>\n",
              "</table>\n",
              "</div>"
            ],
            "text/plain": [
              "            age  deposits  ...  zodiac_sign_Taurus  zodiac_sign_Virgo\n",
              "11697 -0.620163 -0.358425  ...           -0.296293          -0.315429\n",
              "19770 -0.418667 -0.358425  ...           -0.296293          -0.315429\n",
              "8356   0.286568 -0.358425  ...           -0.296293           3.170281\n",
              "17887  0.588812 -0.358425  ...            3.375034          -0.315429\n",
              "25153 -0.821659 -0.248144  ...           -0.296293          -0.315429\n",
              "\n",
              "[5 rows x 41 columns]"
            ]
          },
          "metadata": {
            "tags": []
          },
          "execution_count": 33
        }
      ]
    },
    {
      "cell_type": "code",
      "metadata": {
        "id": "E9vKZ_XL03cD",
        "colab_type": "code",
        "colab": {
          "base_uri": "https://localhost:8080/",
          "height": 241
        },
        "outputId": "2b0cff3d-de70-4b14-cb68-6c531d8c2c42"
      },
      "source": [
        "X_test.head()"
      ],
      "execution_count": 34,
      "outputs": [
        {
          "output_type": "execute_result",
          "data": {
            "text/html": [
              "<div>\n",
              "<style scoped>\n",
              "    .dataframe tbody tr th:only-of-type {\n",
              "        vertical-align: middle;\n",
              "    }\n",
              "\n",
              "    .dataframe tbody tr th {\n",
              "        vertical-align: top;\n",
              "    }\n",
              "\n",
              "    .dataframe thead th {\n",
              "        text-align: right;\n",
              "    }\n",
              "</style>\n",
              "<table border=\"1\" class=\"dataframe\">\n",
              "  <thead>\n",
              "    <tr style=\"text-align: right;\">\n",
              "      <th></th>\n",
              "      <th>age</th>\n",
              "      <th>deposits</th>\n",
              "      <th>withdrawal</th>\n",
              "      <th>purchases_partners</th>\n",
              "      <th>purchases</th>\n",
              "      <th>cc_taken</th>\n",
              "      <th>cc_recommended</th>\n",
              "      <th>cc_disliked</th>\n",
              "      <th>cc_liked</th>\n",
              "      <th>cc_application_begin</th>\n",
              "      <th>app_downloaded</th>\n",
              "      <th>web_user</th>\n",
              "      <th>ios_user</th>\n",
              "      <th>android_user</th>\n",
              "      <th>registered_phones</th>\n",
              "      <th>waiting_4_loan</th>\n",
              "      <th>cancelled_loan</th>\n",
              "      <th>received_loan</th>\n",
              "      <th>rejected_loan</th>\n",
              "      <th>left_for_two_month_plus</th>\n",
              "      <th>left_for_one_month</th>\n",
              "      <th>reward_rate</th>\n",
              "      <th>is_referred</th>\n",
              "      <th>housing_O</th>\n",
              "      <th>housing_R</th>\n",
              "      <th>payment_type_Bi-Weekly</th>\n",
              "      <th>payment_type_Monthly</th>\n",
              "      <th>payment_type_Semi-Monthly</th>\n",
              "      <th>payment_type_Weekly</th>\n",
              "      <th>zodiac_sign_Aquarius</th>\n",
              "      <th>zodiac_sign_Aries</th>\n",
              "      <th>zodiac_sign_Cancer</th>\n",
              "      <th>zodiac_sign_Capricorn</th>\n",
              "      <th>zodiac_sign_Gemini</th>\n",
              "      <th>zodiac_sign_Leo</th>\n",
              "      <th>zodiac_sign_Libra</th>\n",
              "      <th>zodiac_sign_Pisces</th>\n",
              "      <th>zodiac_sign_Sagittarius</th>\n",
              "      <th>zodiac_sign_Scorpio</th>\n",
              "      <th>zodiac_sign_Taurus</th>\n",
              "      <th>zodiac_sign_Virgo</th>\n",
              "    </tr>\n",
              "  </thead>\n",
              "  <tbody>\n",
              "    <tr>\n",
              "      <th>2835</th>\n",
              "      <td>-0.015676</td>\n",
              "      <td>0.854663</td>\n",
              "      <td>-0.294436</td>\n",
              "      <td>-0.618289</td>\n",
              "      <td>0.876847</td>\n",
              "      <td>1.955091</td>\n",
              "      <td>1.233055</td>\n",
              "      <td>-0.059775</td>\n",
              "      <td>-0.075275</td>\n",
              "      <td>1.766049</td>\n",
              "      <td>0.225882</td>\n",
              "      <td>-1.254058</td>\n",
              "      <td>-0.811843</td>\n",
              "      <td>0.847588</td>\n",
              "      <td>-0.469414</td>\n",
              "      <td>-0.032615</td>\n",
              "      <td>-0.142735</td>\n",
              "      <td>-0.144761</td>\n",
              "      <td>-0.072698</td>\n",
              "      <td>-0.458334</td>\n",
              "      <td>-0.140475</td>\n",
              "      <td>0.943769</td>\n",
              "      <td>-0.676263</td>\n",
              "      <td>-0.295511</td>\n",
              "      <td>-0.819354</td>\n",
              "      <td>-0.940999</td>\n",
              "      <td>-0.333747</td>\n",
              "      <td>-0.311772</td>\n",
              "      <td>1.998603</td>\n",
              "      <td>-0.286808</td>\n",
              "      <td>-0.2792</td>\n",
              "      <td>-0.315215</td>\n",
              "      <td>-0.158096</td>\n",
              "      <td>-0.288972</td>\n",
              "      <td>-0.312419</td>\n",
              "      <td>-0.30107</td>\n",
              "      <td>-0.290786</td>\n",
              "      <td>3.413785</td>\n",
              "      <td>-0.291803</td>\n",
              "      <td>-0.296293</td>\n",
              "      <td>-0.315429</td>\n",
              "    </tr>\n",
              "    <tr>\n",
              "      <th>21022</th>\n",
              "      <td>-0.720911</td>\n",
              "      <td>-0.358425</td>\n",
              "      <td>-0.294436</td>\n",
              "      <td>2.459279</td>\n",
              "      <td>-0.358032</td>\n",
              "      <td>-0.162747</td>\n",
              "      <td>1.697845</td>\n",
              "      <td>-0.059775</td>\n",
              "      <td>-0.075275</td>\n",
              "      <td>-0.395133</td>\n",
              "      <td>0.225882</td>\n",
              "      <td>0.797411</td>\n",
              "      <td>-0.811843</td>\n",
              "      <td>0.847588</td>\n",
              "      <td>-0.469414</td>\n",
              "      <td>-0.032615</td>\n",
              "      <td>-0.142735</td>\n",
              "      <td>-0.144761</td>\n",
              "      <td>13.755463</td>\n",
              "      <td>-0.458334</td>\n",
              "      <td>-0.140475</td>\n",
              "      <td>1.076760</td>\n",
              "      <td>-0.676263</td>\n",
              "      <td>-0.295511</td>\n",
              "      <td>1.220474</td>\n",
              "      <td>1.062700</td>\n",
              "      <td>-0.333747</td>\n",
              "      <td>-0.311772</td>\n",
              "      <td>-0.500350</td>\n",
              "      <td>-0.286808</td>\n",
              "      <td>-0.2792</td>\n",
              "      <td>-0.315215</td>\n",
              "      <td>-0.158096</td>\n",
              "      <td>3.460538</td>\n",
              "      <td>-0.312419</td>\n",
              "      <td>-0.30107</td>\n",
              "      <td>-0.290786</td>\n",
              "      <td>-0.292930</td>\n",
              "      <td>-0.291803</td>\n",
              "      <td>-0.296293</td>\n",
              "      <td>-0.315429</td>\n",
              "    </tr>\n",
              "    <tr>\n",
              "      <th>5592</th>\n",
              "      <td>1.495542</td>\n",
              "      <td>0.854663</td>\n",
              "      <td>1.606454</td>\n",
              "      <td>-0.642522</td>\n",
              "      <td>0.876847</td>\n",
              "      <td>-0.162747</td>\n",
              "      <td>0.428176</td>\n",
              "      <td>2.509399</td>\n",
              "      <td>-0.075275</td>\n",
              "      <td>2.074789</td>\n",
              "      <td>0.225882</td>\n",
              "      <td>-1.254058</td>\n",
              "      <td>-0.811843</td>\n",
              "      <td>0.847588</td>\n",
              "      <td>-0.469414</td>\n",
              "      <td>-0.032615</td>\n",
              "      <td>-0.142735</td>\n",
              "      <td>-0.144761</td>\n",
              "      <td>-0.072698</td>\n",
              "      <td>-0.458334</td>\n",
              "      <td>-0.140475</td>\n",
              "      <td>0.943769</td>\n",
              "      <td>1.478715</td>\n",
              "      <td>-0.295511</td>\n",
              "      <td>1.220474</td>\n",
              "      <td>1.062700</td>\n",
              "      <td>-0.333747</td>\n",
              "      <td>-0.311772</td>\n",
              "      <td>-0.500350</td>\n",
              "      <td>-0.286808</td>\n",
              "      <td>-0.2792</td>\n",
              "      <td>-0.315215</td>\n",
              "      <td>-0.158096</td>\n",
              "      <td>-0.288972</td>\n",
              "      <td>-0.312419</td>\n",
              "      <td>-0.30107</td>\n",
              "      <td>-0.290786</td>\n",
              "      <td>-0.292930</td>\n",
              "      <td>-0.291803</td>\n",
              "      <td>3.375034</td>\n",
              "      <td>-0.315429</td>\n",
              "    </tr>\n",
              "    <tr>\n",
              "      <th>15773</th>\n",
              "      <td>0.085072</td>\n",
              "      <td>-0.358425</td>\n",
              "      <td>-0.294436</td>\n",
              "      <td>-0.448660</td>\n",
              "      <td>-0.358032</td>\n",
              "      <td>-0.162747</td>\n",
              "      <td>-1.000203</td>\n",
              "      <td>-0.059775</td>\n",
              "      <td>-0.075275</td>\n",
              "      <td>-0.549503</td>\n",
              "      <td>0.225882</td>\n",
              "      <td>-1.254058</td>\n",
              "      <td>1.231765</td>\n",
              "      <td>-1.179819</td>\n",
              "      <td>1.687648</td>\n",
              "      <td>-0.032615</td>\n",
              "      <td>-0.142735</td>\n",
              "      <td>-0.144761</td>\n",
              "      <td>-0.072698</td>\n",
              "      <td>-0.458334</td>\n",
              "      <td>-0.140475</td>\n",
              "      <td>-0.519134</td>\n",
              "      <td>1.478715</td>\n",
              "      <td>-0.295511</td>\n",
              "      <td>-0.819354</td>\n",
              "      <td>-0.940999</td>\n",
              "      <td>-0.333747</td>\n",
              "      <td>-0.311772</td>\n",
              "      <td>1.998603</td>\n",
              "      <td>-0.286808</td>\n",
              "      <td>-0.2792</td>\n",
              "      <td>-0.315215</td>\n",
              "      <td>6.325281</td>\n",
              "      <td>-0.288972</td>\n",
              "      <td>-0.312419</td>\n",
              "      <td>-0.30107</td>\n",
              "      <td>-0.290786</td>\n",
              "      <td>-0.292930</td>\n",
              "      <td>-0.291803</td>\n",
              "      <td>-0.296293</td>\n",
              "      <td>-0.315429</td>\n",
              "    </tr>\n",
              "    <tr>\n",
              "      <th>15123</th>\n",
              "      <td>-1.023154</td>\n",
              "      <td>0.303260</td>\n",
              "      <td>-0.294436</td>\n",
              "      <td>3.162031</td>\n",
              "      <td>0.315538</td>\n",
              "      <td>-0.162747</td>\n",
              "      <td>1.731854</td>\n",
              "      <td>-0.059775</td>\n",
              "      <td>-0.075275</td>\n",
              "      <td>1.997604</td>\n",
              "      <td>0.225882</td>\n",
              "      <td>0.797411</td>\n",
              "      <td>1.231765</td>\n",
              "      <td>-1.179819</td>\n",
              "      <td>-0.469414</td>\n",
              "      <td>-0.032615</td>\n",
              "      <td>-0.142735</td>\n",
              "      <td>-0.144761</td>\n",
              "      <td>-0.072698</td>\n",
              "      <td>2.181813</td>\n",
              "      <td>-0.140475</td>\n",
              "      <td>1.342743</td>\n",
              "      <td>1.478715</td>\n",
              "      <td>-0.295511</td>\n",
              "      <td>1.220474</td>\n",
              "      <td>1.062700</td>\n",
              "      <td>-0.333747</td>\n",
              "      <td>-0.311772</td>\n",
              "      <td>-0.500350</td>\n",
              "      <td>-0.286808</td>\n",
              "      <td>-0.2792</td>\n",
              "      <td>-0.315215</td>\n",
              "      <td>-0.158096</td>\n",
              "      <td>-0.288972</td>\n",
              "      <td>3.200825</td>\n",
              "      <td>-0.30107</td>\n",
              "      <td>-0.290786</td>\n",
              "      <td>-0.292930</td>\n",
              "      <td>-0.291803</td>\n",
              "      <td>-0.296293</td>\n",
              "      <td>-0.315429</td>\n",
              "    </tr>\n",
              "  </tbody>\n",
              "</table>\n",
              "</div>"
            ],
            "text/plain": [
              "            age  deposits  ...  zodiac_sign_Taurus  zodiac_sign_Virgo\n",
              "2835  -0.015676  0.854663  ...           -0.296293          -0.315429\n",
              "21022 -0.720911 -0.358425  ...           -0.296293          -0.315429\n",
              "5592   1.495542  0.854663  ...            3.375034          -0.315429\n",
              "15773  0.085072 -0.358425  ...           -0.296293          -0.315429\n",
              "15123 -1.023154  0.303260  ...           -0.296293          -0.315429\n",
              "\n",
              "[5 rows x 41 columns]"
            ]
          },
          "metadata": {
            "tags": []
          },
          "execution_count": 34
        }
      ]
    },
    {
      "cell_type": "markdown",
      "metadata": {
        "id": "kg6H19k92r99",
        "colab_type": "text"
      },
      "source": [
        "## Model Training"
      ]
    },
    {
      "cell_type": "code",
      "metadata": {
        "id": "6NoIOmH806MD",
        "colab_type": "code",
        "colab": {
          "base_uri": "https://localhost:8080/",
          "height": 102
        },
        "outputId": "5d19a623-a142-47ee-fe65-d3326ba61f14"
      },
      "source": [
        "from sklearn.linear_model import LogisticRegression\n",
        "classifier = LogisticRegression(random_state = 0)\n",
        "classifier.fit(X_train, y_train)"
      ],
      "execution_count": 35,
      "outputs": [
        {
          "output_type": "execute_result",
          "data": {
            "text/plain": [
              "LogisticRegression(C=1.0, class_weight=None, dual=False, fit_intercept=True,\n",
              "                   intercept_scaling=1, l1_ratio=None, max_iter=100,\n",
              "                   multi_class='auto', n_jobs=None, penalty='l2',\n",
              "                   random_state=0, solver='lbfgs', tol=0.0001, verbose=0,\n",
              "                   warm_start=False)"
            ]
          },
          "metadata": {
            "tags": []
          },
          "execution_count": 35
        }
      ]
    },
    {
      "cell_type": "code",
      "metadata": {
        "id": "OjAl8Zdq3KdC",
        "colab_type": "code",
        "colab": {}
      },
      "source": [
        "y_pred = classifier.predict(X_test)"
      ],
      "execution_count": 0,
      "outputs": []
    },
    {
      "cell_type": "code",
      "metadata": {
        "id": "gFIPv9F43TYC",
        "colab_type": "code",
        "colab": {}
      },
      "source": [
        "from sklearn.metrics import confusion_matrix, accuracy_score, f1_score, precision_score, recall_score\n",
        "cm = confusion_matrix(y_test, y_pred)"
      ],
      "execution_count": 0,
      "outputs": []
    },
    {
      "cell_type": "code",
      "metadata": {
        "id": "Totmd4Cy3p0r",
        "colab_type": "code",
        "colab": {
          "base_uri": "https://localhost:8080/",
          "height": 34
        },
        "outputId": "d154ce9a-28ae-4da5-e6fc-e99425b75778"
      },
      "source": [
        "accuracy_score(y_test, y_pred)"
      ],
      "execution_count": 38,
      "outputs": [
        {
          "output_type": "execute_result",
          "data": {
            "text/plain": [
              "0.6112962962962963"
            ]
          },
          "metadata": {
            "tags": []
          },
          "execution_count": 38
        }
      ]
    },
    {
      "cell_type": "code",
      "metadata": {
        "id": "4hThzFom32sD",
        "colab_type": "code",
        "colab": {
          "base_uri": "https://localhost:8080/",
          "height": 34
        },
        "outputId": "3a1e64e9-94d5-4b9e-ea2e-1942d6c84d0d"
      },
      "source": [
        "precision_score(y_test, y_pred)"
      ],
      "execution_count": 39,
      "outputs": [
        {
          "output_type": "execute_result",
          "data": {
            "text/plain": [
              "0.5212330921673483"
            ]
          },
          "metadata": {
            "tags": []
          },
          "execution_count": 39
        }
      ]
    },
    {
      "cell_type": "code",
      "metadata": {
        "id": "YAchsQl54MzS",
        "colab_type": "code",
        "colab": {
          "base_uri": "https://localhost:8080/",
          "height": 34
        },
        "outputId": "d4abe434-2499-4719-8008-e1fdee51256e"
      },
      "source": [
        "recall_score(y_test, y_pred)"
      ],
      "execution_count": 40,
      "outputs": [
        {
          "output_type": "execute_result",
          "data": {
            "text/plain": [
              "0.7417188898836168"
            ]
          },
          "metadata": {
            "tags": []
          },
          "execution_count": 40
        }
      ]
    },
    {
      "cell_type": "code",
      "metadata": {
        "id": "U3g6390X4YFy",
        "colab_type": "code",
        "colab": {
          "base_uri": "https://localhost:8080/",
          "height": 34
        },
        "outputId": "c59ecaeb-0a1a-496c-b4f1-5a506a5e96d1"
      },
      "source": [
        "f1_score(y_test, y_pred)"
      ],
      "execution_count": 41,
      "outputs": [
        {
          "output_type": "execute_result",
          "data": {
            "text/plain": [
              "0.6122298171069647"
            ]
          },
          "metadata": {
            "tags": []
          },
          "execution_count": 41
        }
      ]
    },
    {
      "cell_type": "code",
      "metadata": {
        "id": "opZAAQPq4mTp",
        "colab_type": "code",
        "colab": {
          "base_uri": "https://localhost:8080/",
          "height": 342
        },
        "outputId": "9f61b4bc-69ea-48f0-f711-e6b9c5ede5d1"
      },
      "source": [
        "df_cm = pd.DataFrame(cm, index = (0, 1), columns = (0, 1))\n",
        "plt.figure(figsize = (8,5))\n",
        "sns.set(font_scale=1.2)\n",
        "sns.heatmap(df_cm, annot = True, fmt = 'g')\n",
        "print(\"Test DataSccuracy: %0.5f\" % accuracy_score(y_test, y_pred))"
      ],
      "execution_count": 42,
      "outputs": [
        {
          "output_type": "stream",
          "text": [
            "Test DataSccuracy: 0.61130\n"
          ],
          "name": "stdout"
        },
        {
          "output_type": "display_data",
          "data": {
            "image/png": "[encoded data removed]",
            "text/plain": [
              "<Figure size 576x360 with 2 Axes>"
            ]
          },
          "metadata": {
            "tags": []
          }
        }
      ]
    },
    {
      "cell_type": "code",
      "metadata": {
        "id": "VRwObU7a5TBm",
        "colab_type": "code",
        "colab": {}
      },
      "source": [
        "# Applying k-fold validation\n",
        "from sklearn.model_selection import cross_val_score\n",
        "accuracies = cross_val_score(estimator = classifier,\n",
        "                             X = X_train,\n",
        "                             y = y_train,\n",
        "                             cv = 10)"
      ],
      "execution_count": 0,
      "outputs": []
    },
    {
      "cell_type": "code",
      "metadata": {
        "id": "Yr_0_two2Z26",
        "colab_type": "code",
        "colab": {
          "base_uri": "https://localhost:8080/",
          "height": 34
        },
        "outputId": "6053bb8b-e604-4ef7-89c2-be9729894e58"
      },
      "source": [
        "accuracies.mean()"
      ],
      "execution_count": 45,
      "outputs": [
        {
          "output_type": "execute_result",
          "data": {
            "text/plain": [
              "0.6430089485458613"
            ]
          },
          "metadata": {
            "tags": []
          },
          "execution_count": 45
        }
      ]
    },
    {
      "cell_type": "code",
      "metadata": {
        "id": "YLHYv_9aAdCm",
        "colab_type": "code",
        "colab": {
          "base_uri": "https://localhost:8080/",
          "height": 1000
        },
        "outputId": "a932aca2-8dfe-4c70-b605-ee7ecb71d694"
      },
      "source": [
        "# Analysing Coefficients\n",
        "pd.concat([pd.DataFrame(X_train.columns, columns = [\"features\"]),\n",
        "           pd.DataFrame(np.transpose(classifier.coef_), columns = [\"coef\"])],\n",
        "          axis = 1)"
      ],
      "execution_count": 47,
      "outputs": [
        {
          "output_type": "execute_result",
          "data": {
            "text/html": [
              "<div>\n",
              "<style scoped>\n",
              "    .dataframe tbody tr th:only-of-type {\n",
              "        vertical-align: middle;\n",
              "    }\n",
              "\n",
              "    .dataframe tbody tr th {\n",
              "        vertical-align: top;\n",
              "    }\n",
              "\n",
              "    .dataframe thead th {\n",
              "        text-align: right;\n",
              "    }\n",
              "</style>\n",
              "<table border=\"1\" class=\"dataframe\">\n",
              "  <thead>\n",
              "    <tr style=\"text-align: right;\">\n",
              "      <th></th>\n",
              "      <th>features</th>\n",
              "      <th>coef</th>\n",
              "    </tr>\n",
              "  </thead>\n",
              "  <tbody>\n",
              "    <tr>\n",
              "      <th>0</th>\n",
              "      <td>age</td>\n",
              "      <td>-0.155187</td>\n",
              "    </tr>\n",
              "    <tr>\n",
              "      <th>1</th>\n",
              "      <td>deposits</td>\n",
              "      <td>0.805479</td>\n",
              "    </tr>\n",
              "    <tr>\n",
              "      <th>2</th>\n",
              "      <td>withdrawal</td>\n",
              "      <td>0.035108</td>\n",
              "    </tr>\n",
              "    <tr>\n",
              "      <th>3</th>\n",
              "      <td>purchases_partners</td>\n",
              "      <td>-0.740010</td>\n",
              "    </tr>\n",
              "    <tr>\n",
              "      <th>4</th>\n",
              "      <td>purchases</td>\n",
              "      <td>-0.952200</td>\n",
              "    </tr>\n",
              "    <tr>\n",
              "      <th>5</th>\n",
              "      <td>cc_taken</td>\n",
              "      <td>0.085978</td>\n",
              "    </tr>\n",
              "    <tr>\n",
              "      <th>6</th>\n",
              "      <td>cc_recommended</td>\n",
              "      <td>0.101277</td>\n",
              "    </tr>\n",
              "    <tr>\n",
              "      <th>7</th>\n",
              "      <td>cc_disliked</td>\n",
              "      <td>0.004997</td>\n",
              "    </tr>\n",
              "    <tr>\n",
              "      <th>8</th>\n",
              "      <td>cc_liked</td>\n",
              "      <td>0.005348</td>\n",
              "    </tr>\n",
              "    <tr>\n",
              "      <th>9</th>\n",
              "      <td>cc_application_begin</td>\n",
              "      <td>0.022333</td>\n",
              "    </tr>\n",
              "    <tr>\n",
              "      <th>10</th>\n",
              "      <td>app_downloaded</td>\n",
              "      <td>-0.052162</td>\n",
              "    </tr>\n",
              "    <tr>\n",
              "      <th>11</th>\n",
              "      <td>web_user</td>\n",
              "      <td>0.130788</td>\n",
              "    </tr>\n",
              "    <tr>\n",
              "      <th>12</th>\n",
              "      <td>ios_user</td>\n",
              "      <td>0.150421</td>\n",
              "    </tr>\n",
              "    <tr>\n",
              "      <th>13</th>\n",
              "      <td>android_user</td>\n",
              "      <td>0.084995</td>\n",
              "    </tr>\n",
              "    <tr>\n",
              "      <th>14</th>\n",
              "      <td>registered_phones</td>\n",
              "      <td>0.081491</td>\n",
              "    </tr>\n",
              "    <tr>\n",
              "      <th>15</th>\n",
              "      <td>waiting_4_loan</td>\n",
              "      <td>-0.036189</td>\n",
              "    </tr>\n",
              "    <tr>\n",
              "      <th>16</th>\n",
              "      <td>cancelled_loan</td>\n",
              "      <td>0.086221</td>\n",
              "    </tr>\n",
              "    <tr>\n",
              "      <th>17</th>\n",
              "      <td>received_loan</td>\n",
              "      <td>0.089883</td>\n",
              "    </tr>\n",
              "    <tr>\n",
              "      <th>18</th>\n",
              "      <td>rejected_loan</td>\n",
              "      <td>0.137219</td>\n",
              "    </tr>\n",
              "    <tr>\n",
              "      <th>19</th>\n",
              "      <td>left_for_two_month_plus</td>\n",
              "      <td>0.041817</td>\n",
              "    </tr>\n",
              "    <tr>\n",
              "      <th>20</th>\n",
              "      <td>left_for_one_month</td>\n",
              "      <td>0.046092</td>\n",
              "    </tr>\n",
              "    <tr>\n",
              "      <th>21</th>\n",
              "      <td>reward_rate</td>\n",
              "      <td>-0.232734</td>\n",
              "    </tr>\n",
              "    <tr>\n",
              "      <th>22</th>\n",
              "      <td>is_referred</td>\n",
              "      <td>0.022706</td>\n",
              "    </tr>\n",
              "    <tr>\n",
              "      <th>23</th>\n",
              "      <td>housing_O</td>\n",
              "      <td>-0.046172</td>\n",
              "    </tr>\n",
              "    <tr>\n",
              "      <th>24</th>\n",
              "      <td>housing_R</td>\n",
              "      <td>0.036686</td>\n",
              "    </tr>\n",
              "    <tr>\n",
              "      <th>25</th>\n",
              "      <td>payment_type_Bi-Weekly</td>\n",
              "      <td>-0.065787</td>\n",
              "    </tr>\n",
              "    <tr>\n",
              "      <th>26</th>\n",
              "      <td>payment_type_Monthly</td>\n",
              "      <td>-0.031659</td>\n",
              "    </tr>\n",
              "    <tr>\n",
              "      <th>27</th>\n",
              "      <td>payment_type_Semi-Monthly</td>\n",
              "      <td>-0.042232</td>\n",
              "    </tr>\n",
              "    <tr>\n",
              "      <th>28</th>\n",
              "      <td>payment_type_Weekly</td>\n",
              "      <td>0.029207</td>\n",
              "    </tr>\n",
              "    <tr>\n",
              "      <th>29</th>\n",
              "      <td>zodiac_sign_Aquarius</td>\n",
              "      <td>-0.000336</td>\n",
              "    </tr>\n",
              "    <tr>\n",
              "      <th>30</th>\n",
              "      <td>zodiac_sign_Aries</td>\n",
              "      <td>0.032558</td>\n",
              "    </tr>\n",
              "    <tr>\n",
              "      <th>31</th>\n",
              "      <td>zodiac_sign_Cancer</td>\n",
              "      <td>0.017311</td>\n",
              "    </tr>\n",
              "    <tr>\n",
              "      <th>32</th>\n",
              "      <td>zodiac_sign_Capricorn</td>\n",
              "      <td>0.043497</td>\n",
              "    </tr>\n",
              "    <tr>\n",
              "      <th>33</th>\n",
              "      <td>zodiac_sign_Gemini</td>\n",
              "      <td>0.014887</td>\n",
              "    </tr>\n",
              "    <tr>\n",
              "      <th>34</th>\n",
              "      <td>zodiac_sign_Leo</td>\n",
              "      <td>0.004556</td>\n",
              "    </tr>\n",
              "    <tr>\n",
              "      <th>35</th>\n",
              "      <td>zodiac_sign_Libra</td>\n",
              "      <td>-0.022070</td>\n",
              "    </tr>\n",
              "    <tr>\n",
              "      <th>36</th>\n",
              "      <td>zodiac_sign_Pisces</td>\n",
              "      <td>0.054450</td>\n",
              "    </tr>\n",
              "    <tr>\n",
              "      <th>37</th>\n",
              "      <td>zodiac_sign_Sagittarius</td>\n",
              "      <td>0.004882</td>\n",
              "    </tr>\n",
              "    <tr>\n",
              "      <th>38</th>\n",
              "      <td>zodiac_sign_Scorpio</td>\n",
              "      <td>0.010369</td>\n",
              "    </tr>\n",
              "    <tr>\n",
              "      <th>39</th>\n",
              "      <td>zodiac_sign_Taurus</td>\n",
              "      <td>0.014636</td>\n",
              "    </tr>\n",
              "    <tr>\n",
              "      <th>40</th>\n",
              "      <td>zodiac_sign_Virgo</td>\n",
              "      <td>0.022373</td>\n",
              "    </tr>\n",
              "  </tbody>\n",
              "</table>\n",
              "</div>"
            ],
            "text/plain": [
              "                     features      coef\n",
              "0                         age -0.155187\n",
              "1                    deposits  0.805479\n",
              "2                  withdrawal  0.035108\n",
              "3          purchases_partners -0.740010\n",
              "4                   purchases -0.952200\n",
              "5                    cc_taken  0.085978\n",
              "6              cc_recommended  0.101277\n",
              "7                 cc_disliked  0.004997\n",
              "8                    cc_liked  0.005348\n",
              "9        cc_application_begin  0.022333\n",
              "10             app_downloaded -0.052162\n",
              "11                   web_user  0.130788\n",
              "12                   ios_user  0.150421\n",
              "13               android_user  0.084995\n",
              "14          registered_phones  0.081491\n",
              "15             waiting_4_loan -0.036189\n",
              "16             cancelled_loan  0.086221\n",
              "17              received_loan  0.089883\n",
              "18              rejected_loan  0.137219\n",
              "19    left_for_two_month_plus  0.041817\n",
              "20         left_for_one_month  0.046092\n",
              "21                reward_rate -0.232734\n",
              "22                is_referred  0.022706\n",
              "23                  housing_O -0.046172\n",
              "24                  housing_R  0.036686\n",
              "25     payment_type_Bi-Weekly -0.065787\n",
              "26       payment_type_Monthly -0.031659\n",
              "27  payment_type_Semi-Monthly -0.042232\n",
              "28        payment_type_Weekly  0.029207\n",
              "29       zodiac_sign_Aquarius -0.000336\n",
              "30          zodiac_sign_Aries  0.032558\n",
              "31         zodiac_sign_Cancer  0.017311\n",
              "32      zodiac_sign_Capricorn  0.043497\n",
              "33         zodiac_sign_Gemini  0.014887\n",
              "34            zodiac_sign_Leo  0.004556\n",
              "35          zodiac_sign_Libra -0.022070\n",
              "36         zodiac_sign_Pisces  0.054450\n",
              "37    zodiac_sign_Sagittarius  0.004882\n",
              "38        zodiac_sign_Scorpio  0.010369\n",
              "39         zodiac_sign_Taurus  0.014636\n",
              "40          zodiac_sign_Virgo  0.022373"
            ]
          },
          "metadata": {
            "tags": []
          },
          "execution_count": 47
        }
      ]
    },
    {
      "cell_type": "markdown",
      "metadata": {
        "id": "rkwn8_EWBvSg",
        "colab_type": "text"
      },
      "source": [
        "###Feature Selection"
      ]
    },
    {
      "cell_type": "code",
      "metadata": {
        "id": "_Z5WRJdYByyk",
        "colab_type": "code",
        "colab": {}
      },
      "source": [
        "from sklearn.feature_selection import RFE\n",
        "from sklearn.linear_model import LogisticRegression"
      ],
      "execution_count": 0,
      "outputs": []
    },
    {
      "cell_type": "code",
      "metadata": {
        "id": "111hAobhCHdd",
        "colab_type": "code",
        "colab": {}
      },
      "source": [
        "# Model to Test\n",
        "classifier = LogisticRegression()\n",
        "rfe = RFE(classifier, 20)"
      ],
      "execution_count": 0,
      "outputs": []
    },
    {
      "cell_type": "code",
      "metadata": {
        "id": "hT-pkl0yCjnF",
        "colab_type": "code",
        "colab": {}
      },
      "source": [
        "rfe = rfe.fit(X_train, y_train)"
      ],
      "execution_count": 0,
      "outputs": []
    },
    {
      "cell_type": "code",
      "metadata": {
        "id": "zWHB-Ub_CqSl",
        "colab_type": "code",
        "colab": {
          "base_uri": "https://localhost:8080/",
          "height": 85
        },
        "outputId": "3d678e15-6b40-4a8f-b417-59b4b6b4886c"
      },
      "source": [
        "print(rfe.support_)"
      ],
      "execution_count": 51,
      "outputs": [
        {
          "output_type": "stream",
          "text": [
            "[ True  True False  True  True  True  True False False False  True  True\n",
            "  True  True  True False  True  True  True  True False  True False False\n",
            "  True  True  True  True False False False False False False False False\n",
            " False False False False False]\n"
          ],
          "name": "stdout"
        }
      ]
    },
    {
      "cell_type": "code",
      "metadata": {
        "id": "EjzlXcmkC4d9",
        "colab_type": "code",
        "colab": {
          "base_uri": "https://localhost:8080/",
          "height": 238
        },
        "outputId": "7fa69d9c-8261-40dc-aaa8-71109cdaccef"
      },
      "source": [
        "X_train.columns"
      ],
      "execution_count": 52,
      "outputs": [
        {
          "output_type": "execute_result",
          "data": {
            "text/plain": [
              "Index(['age', 'deposits', 'withdrawal', 'purchases_partners', 'purchases',\n",
              "       'cc_taken', 'cc_recommended', 'cc_disliked', 'cc_liked',\n",
              "       'cc_application_begin', 'app_downloaded', 'web_user', 'ios_user',\n",
              "       'android_user', 'registered_phones', 'waiting_4_loan', 'cancelled_loan',\n",
              "       'received_loan', 'rejected_loan', 'left_for_two_month_plus',\n",
              "       'left_for_one_month', 'reward_rate', 'is_referred', 'housing_O',\n",
              "       'housing_R', 'payment_type_Bi-Weekly', 'payment_type_Monthly',\n",
              "       'payment_type_Semi-Monthly', 'payment_type_Weekly',\n",
              "       'zodiac_sign_Aquarius', 'zodiac_sign_Aries', 'zodiac_sign_Cancer',\n",
              "       'zodiac_sign_Capricorn', 'zodiac_sign_Gemini', 'zodiac_sign_Leo',\n",
              "       'zodiac_sign_Libra', 'zodiac_sign_Pisces', 'zodiac_sign_Sagittarius',\n",
              "       'zodiac_sign_Scorpio', 'zodiac_sign_Taurus', 'zodiac_sign_Virgo'],\n",
              "      dtype='object')"
            ]
          },
          "metadata": {
            "tags": []
          },
          "execution_count": 52
        }
      ]
    },
    {
      "cell_type": "code",
      "metadata": {
        "id": "MjRRzSd4DCpM",
        "colab_type": "code",
        "colab": {
          "base_uri": "https://localhost:8080/",
          "height": 136
        },
        "outputId": "7ae0458c-ffcd-428c-e7e8-f6cb1d26625c"
      },
      "source": [
        "X_train.columns[rfe.support_] # 20 Columns that are actually included"
      ],
      "execution_count": 55,
      "outputs": [
        {
          "output_type": "execute_result",
          "data": {
            "text/plain": [
              "Index(['age', 'deposits', 'purchases_partners', 'purchases', 'cc_taken',\n",
              "       'cc_recommended', 'app_downloaded', 'web_user', 'ios_user',\n",
              "       'android_user', 'registered_phones', 'cancelled_loan', 'received_loan',\n",
              "       'rejected_loan', 'left_for_two_month_plus', 'reward_rate', 'housing_R',\n",
              "       'payment_type_Bi-Weekly', 'payment_type_Monthly',\n",
              "       'payment_type_Semi-Monthly'],\n",
              "      dtype='object')"
            ]
          },
          "metadata": {
            "tags": []
          },
          "execution_count": 55
        }
      ]
    },
    {
      "cell_type": "code",
      "metadata": {
        "id": "RFXvmqNTDIIM",
        "colab_type": "code",
        "colab": {
          "base_uri": "https://localhost:8080/",
          "height": 68
        },
        "outputId": "1297e177-bbf7-4a30-e651-5538cedb5e7e"
      },
      "source": [
        "rfe.ranking_"
      ],
      "execution_count": 56,
      "outputs": [
        {
          "output_type": "execute_result",
          "data": {
            "text/plain": [
              "array([ 1,  1,  5,  1,  1,  1,  1, 19, 18, 10,  1,  1,  1,  1,  1,  7,  1,\n",
              "        1,  1,  1,  3,  1, 12,  4,  1,  1,  1,  1,  9, 22, 11, 14,  6, 15,\n",
              "       21,  8,  2, 20, 17, 16, 13])"
            ]
          },
          "metadata": {
            "tags": []
          },
          "execution_count": 56
        }
      ]
    },
    {
      "cell_type": "code",
      "metadata": {
        "id": "Vcg23ye9Db-t",
        "colab_type": "code",
        "colab": {
          "base_uri": "https://localhost:8080/",
          "height": 102
        },
        "outputId": "3721a483-8f83-44ab-9846-48091a2f681b"
      },
      "source": [
        "classifier = LogisticRegression(random_state = 0)\n",
        "classifier.fit(X_train[X_train.columns[rfe.support_]], y_train)"
      ],
      "execution_count": 57,
      "outputs": [
        {
          "output_type": "execute_result",
          "data": {
            "text/plain": [
              "LogisticRegression(C=1.0, class_weight=None, dual=False, fit_intercept=True,\n",
              "                   intercept_scaling=1, l1_ratio=None, max_iter=100,\n",
              "                   multi_class='auto', n_jobs=None, penalty='l2',\n",
              "                   random_state=0, solver='lbfgs', tol=0.0001, verbose=0,\n",
              "                   warm_start=False)"
            ]
          },
          "metadata": {
            "tags": []
          },
          "execution_count": 57
        }
      ]
    },
    {
      "cell_type": "code",
      "metadata": {
        "id": "gjgI8GkXEJ1k",
        "colab_type": "code",
        "colab": {}
      },
      "source": [
        "y_pred = classifier.predict(X_test[X_test.columns[rfe.support_]])"
      ],
      "execution_count": 0,
      "outputs": []
    },
    {
      "cell_type": "code",
      "metadata": {
        "id": "42_K-D6YEXGE",
        "colab_type": "code",
        "colab": {
          "base_uri": "https://localhost:8080/",
          "height": 34
        },
        "outputId": "fefa1b08-c6c0-4d27-be1c-81c0ad4a9616"
      },
      "source": [
        "accuracy_score(y_test, y_pred)"
      ],
      "execution_count": 59,
      "outputs": [
        {
          "output_type": "execute_result",
          "data": {
            "text/plain": [
              "0.607037037037037"
            ]
          },
          "metadata": {
            "tags": []
          },
          "execution_count": 59
        }
      ]
    },
    {
      "cell_type": "code",
      "metadata": {
        "id": "noXF6bxyEj3U",
        "colab_type": "code",
        "colab": {
          "base_uri": "https://localhost:8080/",
          "height": 34
        },
        "outputId": "991da699-a5ac-4aba-8fd8-553e8b0395af"
      },
      "source": [
        "precision_score(y_test, y_pred)"
      ],
      "execution_count": 60,
      "outputs": [
        {
          "output_type": "execute_result",
          "data": {
            "text/plain": [
              "0.5174129353233831"
            ]
          },
          "metadata": {
            "tags": []
          },
          "execution_count": 60
        }
      ]
    },
    {
      "cell_type": "code",
      "metadata": {
        "id": "lEhRgnrhKgr8",
        "colab_type": "code",
        "colab": {
          "base_uri": "https://localhost:8080/",
          "height": 34
        },
        "outputId": "28af612a-7690-4ea1-cdd0-2e59cf9ebabf"
      },
      "source": [
        "recall_score(y_test, y_pred)"
      ],
      "execution_count": 61,
      "outputs": [
        {
          "output_type": "execute_result",
          "data": {
            "text/plain": [
              "0.7448522829006267"
            ]
          },
          "metadata": {
            "tags": []
          },
          "execution_count": 61
        }
      ]
    },
    {
      "cell_type": "code",
      "metadata": {
        "id": "-kpNIwuWKlly",
        "colab_type": "code",
        "colab": {
          "base_uri": "https://localhost:8080/",
          "height": 34
        },
        "outputId": "4a9e10ed-89a6-4154-d8c4-52e7a95deb3a"
      },
      "source": [
        "f1_score(y_test, y_pred)"
      ],
      "execution_count": 62,
      "outputs": [
        {
          "output_type": "execute_result",
          "data": {
            "text/plain": [
              "0.6106422018348624"
            ]
          },
          "metadata": {
            "tags": []
          },
          "execution_count": 62
        }
      ]
    },
    {
      "cell_type": "code",
      "metadata": {
        "id": "DPTJVJNDKpay",
        "colab_type": "code",
        "colab": {
          "base_uri": "https://localhost:8080/",
          "height": 669
        },
        "outputId": "8fb3c558-020a-4608-826b-6708bbc47b95"
      },
      "source": [
        "# Analysing Coefficients\n",
        "pd.concat([pd.DataFrame(X_train.columns[rfe.support_], columns = [\"features\"]),\n",
        "           pd.DataFrame(np.transpose(classifier.coef_), columns = [\"coef\"])],\n",
        "          axis = 1)"
      ],
      "execution_count": 63,
      "outputs": [
        {
          "output_type": "execute_result",
          "data": {
            "text/html": [
              "<div>\n",
              "<style scoped>\n",
              "    .dataframe tbody tr th:only-of-type {\n",
              "        vertical-align: middle;\n",
              "    }\n",
              "\n",
              "    .dataframe tbody tr th {\n",
              "        vertical-align: top;\n",
              "    }\n",
              "\n",
              "    .dataframe thead th {\n",
              "        text-align: right;\n",
              "    }\n",
              "</style>\n",
              "<table border=\"1\" class=\"dataframe\">\n",
              "  <thead>\n",
              "    <tr style=\"text-align: right;\">\n",
              "      <th></th>\n",
              "      <th>features</th>\n",
              "      <th>coef</th>\n",
              "    </tr>\n",
              "  </thead>\n",
              "  <tbody>\n",
              "    <tr>\n",
              "      <th>0</th>\n",
              "      <td>age</td>\n",
              "      <td>-0.155798</td>\n",
              "    </tr>\n",
              "    <tr>\n",
              "      <th>1</th>\n",
              "      <td>deposits</td>\n",
              "      <td>0.836761</td>\n",
              "    </tr>\n",
              "    <tr>\n",
              "      <th>2</th>\n",
              "      <td>purchases_partners</td>\n",
              "      <td>-0.736719</td>\n",
              "    </tr>\n",
              "    <tr>\n",
              "      <th>3</th>\n",
              "      <td>purchases</td>\n",
              "      <td>-0.957197</td>\n",
              "    </tr>\n",
              "    <tr>\n",
              "      <th>4</th>\n",
              "      <td>cc_taken</td>\n",
              "      <td>0.092240</td>\n",
              "    </tr>\n",
              "    <tr>\n",
              "      <th>5</th>\n",
              "      <td>cc_recommended</td>\n",
              "      <td>0.112046</td>\n",
              "    </tr>\n",
              "    <tr>\n",
              "      <th>6</th>\n",
              "      <td>app_downloaded</td>\n",
              "      <td>-0.049532</td>\n",
              "    </tr>\n",
              "    <tr>\n",
              "      <th>7</th>\n",
              "      <td>web_user</td>\n",
              "      <td>0.132280</td>\n",
              "    </tr>\n",
              "    <tr>\n",
              "      <th>8</th>\n",
              "      <td>ios_user</td>\n",
              "      <td>0.156516</td>\n",
              "    </tr>\n",
              "    <tr>\n",
              "      <th>9</th>\n",
              "      <td>android_user</td>\n",
              "      <td>0.087053</td>\n",
              "    </tr>\n",
              "    <tr>\n",
              "      <th>10</th>\n",
              "      <td>registered_phones</td>\n",
              "      <td>0.081067</td>\n",
              "    </tr>\n",
              "    <tr>\n",
              "      <th>11</th>\n",
              "      <td>cancelled_loan</td>\n",
              "      <td>0.084383</td>\n",
              "    </tr>\n",
              "    <tr>\n",
              "      <th>12</th>\n",
              "      <td>received_loan</td>\n",
              "      <td>0.087133</td>\n",
              "    </tr>\n",
              "    <tr>\n",
              "      <th>13</th>\n",
              "      <td>rejected_loan</td>\n",
              "      <td>0.136477</td>\n",
              "    </tr>\n",
              "    <tr>\n",
              "      <th>14</th>\n",
              "      <td>left_for_two_month_plus</td>\n",
              "      <td>0.047148</td>\n",
              "    </tr>\n",
              "    <tr>\n",
              "      <th>15</th>\n",
              "      <td>reward_rate</td>\n",
              "      <td>-0.241198</td>\n",
              "    </tr>\n",
              "    <tr>\n",
              "      <th>16</th>\n",
              "      <td>housing_R</td>\n",
              "      <td>0.057303</td>\n",
              "    </tr>\n",
              "    <tr>\n",
              "      <th>17</th>\n",
              "      <td>payment_type_Bi-Weekly</td>\n",
              "      <td>-0.088117</td>\n",
              "    </tr>\n",
              "    <tr>\n",
              "      <th>18</th>\n",
              "      <td>payment_type_Monthly</td>\n",
              "      <td>-0.045188</td>\n",
              "    </tr>\n",
              "    <tr>\n",
              "      <th>19</th>\n",
              "      <td>payment_type_Semi-Monthly</td>\n",
              "      <td>-0.056398</td>\n",
              "    </tr>\n",
              "  </tbody>\n",
              "</table>\n",
              "</div>"
            ],
            "text/plain": [
              "                     features      coef\n",
              "0                         age -0.155798\n",
              "1                    deposits  0.836761\n",
              "2          purchases_partners -0.736719\n",
              "3                   purchases -0.957197\n",
              "4                    cc_taken  0.092240\n",
              "5              cc_recommended  0.112046\n",
              "6              app_downloaded -0.049532\n",
              "7                    web_user  0.132280\n",
              "8                    ios_user  0.156516\n",
              "9                android_user  0.087053\n",
              "10          registered_phones  0.081067\n",
              "11             cancelled_loan  0.084383\n",
              "12              received_loan  0.087133\n",
              "13              rejected_loan  0.136477\n",
              "14    left_for_two_month_plus  0.047148\n",
              "15                reward_rate -0.241198\n",
              "16                  housing_R  0.057303\n",
              "17     payment_type_Bi-Weekly -0.088117\n",
              "18       payment_type_Monthly -0.045188\n",
              "19  payment_type_Semi-Monthly -0.056398"
            ]
          },
          "metadata": {
            "tags": []
          },
          "execution_count": 63
        }
      ]
    },
    {
      "cell_type": "markdown",
      "metadata": {
        "id": "Mv6C2-hXL_Ei",
        "colab_type": "text"
      },
      "source": [
        "###Final Results"
      ]
    },
    {
      "cell_type": "code",
      "metadata": {
        "id": "CNe5xTnjMBeA",
        "colab_type": "code",
        "colab": {}
      },
      "source": [
        "final_results = pd.concat([y_test, user_indentifier], axis = 1).dropna()\n",
        "final_results['predicted_churn'] = y_pred\n",
        "final_results = final_results[['user', 'churn', 'predicted_churn']].reset_index(drop = True)"
      ],
      "execution_count": 0,
      "outputs": []
    },
    {
      "cell_type": "code",
      "metadata": {
        "id": "Aly4yXkjMg7J",
        "colab_type": "code",
        "colab": {
          "base_uri": "https://localhost:8080/",
          "height": 359
        },
        "outputId": "20e4fe7b-c5b8-49b8-cd73-68ffe16271f3"
      },
      "source": [
        "final_results.head(10)"
      ],
      "execution_count": 66,
      "outputs": [
        {
          "output_type": "execute_result",
          "data": {
            "text/html": [
              "<div>\n",
              "<style scoped>\n",
              "    .dataframe tbody tr th:only-of-type {\n",
              "        vertical-align: middle;\n",
              "    }\n",
              "\n",
              "    .dataframe tbody tr th {\n",
              "        vertical-align: top;\n",
              "    }\n",
              "\n",
              "    .dataframe thead th {\n",
              "        text-align: right;\n",
              "    }\n",
              "</style>\n",
              "<table border=\"1\" class=\"dataframe\">\n",
              "  <thead>\n",
              "    <tr style=\"text-align: right;\">\n",
              "      <th></th>\n",
              "      <th>user</th>\n",
              "      <th>churn</th>\n",
              "      <th>predicted_churn</th>\n",
              "    </tr>\n",
              "  </thead>\n",
              "  <tbody>\n",
              "    <tr>\n",
              "      <th>0</th>\n",
              "      <td>61353</td>\n",
              "      <td>1.0</td>\n",
              "      <td>1</td>\n",
              "    </tr>\n",
              "    <tr>\n",
              "      <th>1</th>\n",
              "      <td>67679</td>\n",
              "      <td>0.0</td>\n",
              "      <td>1</td>\n",
              "    </tr>\n",
              "    <tr>\n",
              "      <th>2</th>\n",
              "      <td>21269</td>\n",
              "      <td>0.0</td>\n",
              "      <td>0</td>\n",
              "    </tr>\n",
              "    <tr>\n",
              "      <th>3</th>\n",
              "      <td>69531</td>\n",
              "      <td>0.0</td>\n",
              "      <td>1</td>\n",
              "    </tr>\n",
              "    <tr>\n",
              "      <th>4</th>\n",
              "      <td>25997</td>\n",
              "      <td>0.0</td>\n",
              "      <td>0</td>\n",
              "    </tr>\n",
              "    <tr>\n",
              "      <th>5</th>\n",
              "      <td>28827</td>\n",
              "      <td>0.0</td>\n",
              "      <td>0</td>\n",
              "    </tr>\n",
              "    <tr>\n",
              "      <th>6</th>\n",
              "      <td>58305</td>\n",
              "      <td>1.0</td>\n",
              "      <td>0</td>\n",
              "    </tr>\n",
              "    <tr>\n",
              "      <th>7</th>\n",
              "      <td>2351</td>\n",
              "      <td>0.0</td>\n",
              "      <td>1</td>\n",
              "    </tr>\n",
              "    <tr>\n",
              "      <th>8</th>\n",
              "      <td>11790</td>\n",
              "      <td>0.0</td>\n",
              "      <td>1</td>\n",
              "    </tr>\n",
              "    <tr>\n",
              "      <th>9</th>\n",
              "      <td>46727</td>\n",
              "      <td>0.0</td>\n",
              "      <td>0</td>\n",
              "    </tr>\n",
              "  </tbody>\n",
              "</table>\n",
              "</div>"
            ],
            "text/plain": [
              "    user  churn  predicted_churn\n",
              "0  61353    1.0                1\n",
              "1  67679    0.0                1\n",
              "2  21269    0.0                0\n",
              "3  69531    0.0                1\n",
              "4  25997    0.0                0\n",
              "5  28827    0.0                0\n",
              "6  58305    1.0                0\n",
              "7   2351    0.0                1\n",
              "8  11790    0.0                1\n",
              "9  46727    0.0                0"
            ]
          },
          "metadata": {
            "tags": []
          },
          "execution_count": 66
        }
      ]
    },
    {
      "cell_type": "code",
      "metadata": {
        "id": "6io-ChNKMizp",
        "colab_type": "code",
        "colab": {
          "base_uri": "https://localhost:8080/",
          "height": 419
        },
        "outputId": "914f3f48-7766-4e31-d43d-c4baa9da70fe"
      },
      "source": [
        "final_results"
      ],
      "execution_count": 67,
      "outputs": [
        {
          "output_type": "execute_result",
          "data": {
            "text/html": [
              "<div>\n",
              "<style scoped>\n",
              "    .dataframe tbody tr th:only-of-type {\n",
              "        vertical-align: middle;\n",
              "    }\n",
              "\n",
              "    .dataframe tbody tr th {\n",
              "        vertical-align: top;\n",
              "    }\n",
              "\n",
              "    .dataframe thead th {\n",
              "        text-align: right;\n",
              "    }\n",
              "</style>\n",
              "<table border=\"1\" class=\"dataframe\">\n",
              "  <thead>\n",
              "    <tr style=\"text-align: right;\">\n",
              "      <th></th>\n",
              "      <th>user</th>\n",
              "      <th>churn</th>\n",
              "      <th>predicted_churn</th>\n",
              "    </tr>\n",
              "  </thead>\n",
              "  <tbody>\n",
              "    <tr>\n",
              "      <th>0</th>\n",
              "      <td>61353</td>\n",
              "      <td>1.0</td>\n",
              "      <td>1</td>\n",
              "    </tr>\n",
              "    <tr>\n",
              "      <th>1</th>\n",
              "      <td>67679</td>\n",
              "      <td>0.0</td>\n",
              "      <td>1</td>\n",
              "    </tr>\n",
              "    <tr>\n",
              "      <th>2</th>\n",
              "      <td>21269</td>\n",
              "      <td>0.0</td>\n",
              "      <td>0</td>\n",
              "    </tr>\n",
              "    <tr>\n",
              "      <th>3</th>\n",
              "      <td>69531</td>\n",
              "      <td>0.0</td>\n",
              "      <td>1</td>\n",
              "    </tr>\n",
              "    <tr>\n",
              "      <th>4</th>\n",
              "      <td>25997</td>\n",
              "      <td>0.0</td>\n",
              "      <td>0</td>\n",
              "    </tr>\n",
              "    <tr>\n",
              "      <th>...</th>\n",
              "      <td>...</td>\n",
              "      <td>...</td>\n",
              "      <td>...</td>\n",
              "    </tr>\n",
              "    <tr>\n",
              "      <th>5395</th>\n",
              "      <td>22377</td>\n",
              "      <td>0.0</td>\n",
              "      <td>1</td>\n",
              "    </tr>\n",
              "    <tr>\n",
              "      <th>5396</th>\n",
              "      <td>24291</td>\n",
              "      <td>1.0</td>\n",
              "      <td>1</td>\n",
              "    </tr>\n",
              "    <tr>\n",
              "      <th>5397</th>\n",
              "      <td>23740</td>\n",
              "      <td>0.0</td>\n",
              "      <td>1</td>\n",
              "    </tr>\n",
              "    <tr>\n",
              "      <th>5398</th>\n",
              "      <td>47663</td>\n",
              "      <td>1.0</td>\n",
              "      <td>0</td>\n",
              "    </tr>\n",
              "    <tr>\n",
              "      <th>5399</th>\n",
              "      <td>52752</td>\n",
              "      <td>1.0</td>\n",
              "      <td>1</td>\n",
              "    </tr>\n",
              "  </tbody>\n",
              "</table>\n",
              "<p>5400 rows × 3 columns</p>\n",
              "</div>"
            ],
            "text/plain": [
              "       user  churn  predicted_churn\n",
              "0     61353    1.0                1\n",
              "1     67679    0.0                1\n",
              "2     21269    0.0                0\n",
              "3     69531    0.0                1\n",
              "4     25997    0.0                0\n",
              "...     ...    ...              ...\n",
              "5395  22377    0.0                1\n",
              "5396  24291    1.0                1\n",
              "5397  23740    0.0                1\n",
              "5398  47663    1.0                0\n",
              "5399  52752    1.0                1\n",
              "\n",
              "[5400 rows x 3 columns]"
            ]
          },
          "metadata": {
            "tags": []
          },
          "execution_count": 67
        }
      ]
    },
    {
      "cell_type": "code",
      "metadata": {
        "id": "n-Ji3Ih7M3mR",
        "colab_type": "code",
        "colab": {}
      },
      "source": [
        ""
      ],
      "execution_count": 0,
      "outputs": []
    }
  ]
}